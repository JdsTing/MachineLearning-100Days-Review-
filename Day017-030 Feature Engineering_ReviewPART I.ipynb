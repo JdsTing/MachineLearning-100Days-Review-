{
 "cells": [
  {
   "cell_type": "markdown",
   "metadata": {},
   "source": [
    "########  (Kaggle)鐵達尼生存預測 https://www.kaggle.com/c/titanic ##########\n",
    "# D17 什麼是Titanic dataset?   https://ithelp.ithome.com.tw/articles/10200327"
   ]
  },
  {
   "cell_type": "code",
   "execution_count": 1,
   "metadata": {},
   "outputs": [
    {
     "name": "stdout",
     "output_type": "stream",
     "text": [
      "df_train.shape (891, 10)\n",
      "df_test.shape (418, 10)\n",
      "df.shape: (1309, 10) , NOTE: 前891筆為訓練資料, 接下來418筆為測試資料, 共有10個欄位(不包含 train_Y 和 ID)\n",
      "   Pclass                                               Name     Sex   Age  \\\n",
      "0       3                            Braund, Mr. Owen Harris    male  22.0   \n",
      "1       1  Cumings, Mrs. John Bradley (Florence Briggs Th...  female  38.0   \n",
      "2       3                             Heikkinen, Miss. Laina  female  26.0   \n",
      "3       1       Futrelle, Mrs. Jacques Heath (Lily May Peel)  female  35.0   \n",
      "4       3                           Allen, Mr. William Henry    male  35.0   \n",
      "\n",
      "   SibSp  Parch            Ticket     Fare Cabin Embarked  \n",
      "0      1      0         A/5 21171   7.2500   NaN        S  \n",
      "1      1      0          PC 17599  71.2833   C85        C  \n",
      "2      0      0  STON/O2. 3101282   7.9250   NaN        S  \n",
      "3      1      0            113803  53.1000  C123        S  \n",
      "4      0      0            373450   8.0500   NaN        S  \n"
     ]
    }
   ],
   "source": [
    "# 準備資料\n",
    "import pandas as pd\n",
    "\n",
    "data_path = 'data/'\n",
    "df_train = pd.read_csv(data_path + 'titanic_train.csv')\n",
    "df_test = pd.read_csv(data_path + 'titanic_test.csv')\n",
    "\n",
    "train_Y = df_train['Survived']\n",
    "ids = df_test['PassengerId']\n",
    "df_train = df_train.drop(['PassengerId', 'Survived'] , axis=1)\n",
    "df_test = df_test.drop(['PassengerId'] , axis=1)\n",
    "df = pd.concat([df_train,df_test])   #前半段為訓練資料, 後半段為測試資料, 合併一起進行資料整理\n",
    "print(\"df_train.shape\", df_train.shape)\n",
    "print(\"df_test.shape\", df_test .shape)\n",
    "print(f'df.shape: {df.shape} , NOTE: 前{df_train.shape[0]}筆為訓練資料, \\\n",
    "接下來{df_test.shape[0]}筆為測試資料, 共有{df.shape[1]}個欄位(不包含 train_Y 和 ID)')\n",
    "print(df.head())"
   ]
  },
  {
   "cell_type": "markdown",
   "metadata": {},
   "source": [
    "# D18 列舉常見的特徵類型 : \n",
    "  ### 數值型特徵 / 類別型特徵；另外還有二元特徵、排序型特徵、時間型特徵。\n",
    "  \n",
    "# 「特徵工程」是將這些特徵的原始資料(可能是文字、數值等)轉換成對應的數值(調整過的分數、數字分組標籤等)。 \n",
    "  ### 工程內容介紹可以參考 D19-D30範例。"
   ]
  },
  {
   "cell_type": "code",
   "execution_count": 2,
   "metadata": {},
   "outputs": [
    {
     "name": "stdout",
     "output_type": "stream",
     "text": [
      "3 Integer Features : ['Pclass', 'SibSp', 'Parch']\n",
      "\n",
      "2 Float Features : ['Age', 'Fare']\n",
      "\n",
      "5 Object Features : ['Name', 'Sex', 'Ticket', 'Cabin', 'Embarked']\n",
      "\n",
      "每個欄位有多少coding: pd.Series.nunique \n",
      "\n",
      "Pclass         3\n",
      "Name        1307\n",
      "Sex            2\n",
      "Age           98\n",
      "SibSp          7\n",
      "Parch          8\n",
      "Ticket       929\n",
      "Fare         281\n",
      "Cabin        186\n",
      "Embarked       3\n",
      "dtype: int64\n"
     ]
    }
   ],
   "source": [
    "#D18 檢視不同資料類型列表\n",
    "# 秀出資料欄位的類型與數量\n",
    "dtype_df = df.dtypes.reset_index()\n",
    "dtype_df.columns = [\"Count\", \"Column Type\"]\n",
    "dtype_df = dtype_df.groupby(\"Column Type\").aggregate('count').reset_index()\n",
    "dtype_df\n",
    "#確定只有 int64, float64, object 三種類型後, 分別將欄位名稱存於三個 list 中\n",
    "int_features = []\n",
    "float_features = []\n",
    "object_features = []\n",
    "for dtype, feature in zip(df.dtypes, df.columns):\n",
    "    if dtype == 'float64':\n",
    "        float_features.append(feature)\n",
    "    elif dtype == 'int64':\n",
    "        int_features.append(feature)\n",
    "    else:\n",
    "        object_features.append(feature)\n",
    "print(f'{len(int_features)} Integer Features : {int_features}\\n')\n",
    "print(f'{len(float_features)} Float Features : {float_features}\\n')\n",
    "print(f'{len(object_features)} Object Features : {object_features}')\n",
    "\n",
    "print(f'\\n每個欄位有多少coding: pd.Series.nunique \\n')\n",
    "print(df.apply(pd.Series.nunique, axis = 0) )"
   ]
  },
  {
   "cell_type": "markdown",
   "metadata": {},
   "source": [
    "######################\n",
    "## 數值型特徵\n",
    "######################"
   ]
  },
  {
   "cell_type": "code",
   "execution_count": 4,
   "metadata": {},
   "outputs": [
    {
     "name": "stdout",
     "output_type": "stream",
     "text": [
      "各欄位Missing的量: \n",
      "Pclass      0\n",
      "SibSp       0\n",
      "Parch       0\n",
      "Age       263\n",
      "Fare        1\n",
      "dtype: int64\n"
     ]
    },
    {
     "data": {
      "image/png": "[encoded data removed]",
      "text/plain": [
       "<Figure size 432x288 with 1 Axes>"
      ]
     },
     "metadata": {
      "needs_background": "light"
     },
     "output_type": "display_data"
    },
    {
     "data": {
      "image/png": "[encoded data removed]",
      "text/plain": [
       "<Figure size 432x288 with 1 Axes>"
      ]
     },
     "metadata": {
      "needs_background": "light"
     },
     "output_type": "display_data"
    },
    {
     "data": {
      "image/png": "[encoded data removed]",
      "text/plain": [
       "<Figure size 432x288 with 1 Axes>"
      ]
     },
     "metadata": {
      "needs_background": "light"
     },
     "output_type": "display_data"
    },
    {
     "data": {
      "image/png": "[encoded data removed]",
      "text/plain": [
       "<Figure size 432x288 with 1 Axes>"
      ]
     },
     "metadata": {
      "needs_background": "light"
     },
     "output_type": "display_data"
    },
    {
     "data": {
      "image/png": "[encoded data removed]",
      "text/plain": [
       "<Figure size 432x288 with 1 Axes>"
      ]
     },
     "metadata": {
      "needs_background": "light"
     },
     "output_type": "display_data"
    },
    {
     "name": "stdout",
     "output_type": "stream",
     "text": [
      "            Pclass        SibSp        Parch          Age         Fare\n",
      "count  1309.000000  1309.000000  1309.000000  1046.000000  1308.000000\n",
      "mean      2.294882     0.498854     0.385027    29.881138    33.295479\n",
      "std       0.837836     1.041658     0.865560    14.413493    51.758668\n",
      "min       1.000000     0.000000     0.000000     0.170000     0.000000\n",
      "25%       2.000000     0.000000     0.000000    21.000000     7.895800\n",
      "50%       3.000000     0.000000     0.000000    28.000000    14.454200\n",
      "75%       3.000000     1.000000     0.000000    39.000000    31.275000\n",
      "max       3.000000     8.000000     9.000000    80.000000   512.329200\n",
      "==============================\n",
      "調整mn_後cross_val_score: 0.6981761033723469\n",
      "調整mn_MinMax後cross_val_score: 0.6993501991462476\n"
     ]
    },
    {
     "name": "stderr",
     "output_type": "stream",
     "text": [
      "C:\\Users\\Administrator\\Anaconda3\\lib\\site-packages\\sklearn\\linear_model\\logistic.py:433: FutureWarning: Default solver will be changed to 'lbfgs' in 0.22. Specify a solver to silence this warning.\n",
      "  FutureWarning)\n",
      "C:\\Users\\Administrator\\Anaconda3\\lib\\site-packages\\sklearn\\linear_model\\logistic.py:433: FutureWarning: Default solver will be changed to 'lbfgs' in 0.22. Specify a solver to silence this warning.\n",
      "  FutureWarning)\n",
      "C:\\Users\\Administrator\\Anaconda3\\lib\\site-packages\\sklearn\\linear_model\\logistic.py:433: FutureWarning: Default solver will be changed to 'lbfgs' in 0.22. Specify a solver to silence this warning.\n",
      "  FutureWarning)\n",
      "C:\\Users\\Administrator\\Anaconda3\\lib\\site-packages\\sklearn\\linear_model\\logistic.py:433: FutureWarning: Default solver will be changed to 'lbfgs' in 0.22. Specify a solver to silence this warning.\n",
      "  FutureWarning)\n",
      "C:\\Users\\Administrator\\Anaconda3\\lib\\site-packages\\sklearn\\linear_model\\logistic.py:433: FutureWarning: Default solver will be changed to 'lbfgs' in 0.22. Specify a solver to silence this warning.\n",
      "  FutureWarning)\n",
      "C:\\Users\\Administrator\\Anaconda3\\lib\\site-packages\\sklearn\\preprocessing\\data.py:334: DataConversionWarning: Data with input dtype int64, float64 were all converted to float64 by MinMaxScaler.\n",
      "  return self.partial_fit(X, y)\n",
      "C:\\Users\\Administrator\\Anaconda3\\lib\\site-packages\\sklearn\\linear_model\\logistic.py:433: FutureWarning: Default solver will be changed to 'lbfgs' in 0.22. Specify a solver to silence this warning.\n",
      "  FutureWarning)\n",
      "C:\\Users\\Administrator\\Anaconda3\\lib\\site-packages\\sklearn\\linear_model\\logistic.py:433: FutureWarning: Default solver will be changed to 'lbfgs' in 0.22. Specify a solver to silence this warning.\n",
      "  FutureWarning)\n",
      "C:\\Users\\Administrator\\Anaconda3\\lib\\site-packages\\sklearn\\linear_model\\logistic.py:433: FutureWarning: Default solver will be changed to 'lbfgs' in 0.22. Specify a solver to silence this warning.\n",
      "  FutureWarning)\n",
      "C:\\Users\\Administrator\\Anaconda3\\lib\\site-packages\\sklearn\\linear_model\\logistic.py:433: FutureWarning: Default solver will be changed to 'lbfgs' in 0.22. Specify a solver to silence this warning.\n",
      "  FutureWarning)\n",
      "C:\\Users\\Administrator\\Anaconda3\\lib\\site-packages\\sklearn\\linear_model\\logistic.py:433: FutureWarning: Default solver will be changed to 'lbfgs' in 0.22. Specify a solver to silence this warning.\n",
      "  FutureWarning)\n"
     ]
    }
   ],
   "source": [
    "#D19_數值型特徵 - 補缺失值與標準化\n",
    "from sklearn.preprocessing import MinMaxScaler, StandardScaler\n",
    "from sklearn.model_selection import cross_val_score\n",
    "from sklearn.linear_model import LogisticRegression\n",
    "\n",
    "# 削減文字型欄位, 只剩數值型欄位\n",
    "df_num = pd.concat((df[int_features], df[float_features]), axis=1)\n",
    "print(f'各欄位Missing的量: \\n{df_num.isnull().sum()}')  # 觀察 missing 狀況  , 只有 Age 和 Fare 有missing\n",
    "\n",
    "#看分佈 BoxPlot\n",
    "import matplotlib.pyplot as plt\n",
    "# 檢視這些欄位的數值範圍\n",
    "for col in df_num.columns:\n",
    "    df_num[[col]].boxplot()\n",
    "    plt.show()\n",
    "print (df_num.describe())\n",
    "print ( \"=\" *30)\n",
    "######################################################\n",
    "#試著兩種以上填補的缺值，看看何者比較好?\n",
    "  #df_m1 = df.fillna(-1)   # 空值補 -1\n",
    "  #df_0 = df.fillna(0)       # 空值補 0   \n",
    "  #df_mn = df.fillna(df.mean()) # 空值補平均值mean、中位數median、眾數mode\n",
    "#使用不同的標準化方式 ( 原值 / 最小最大化 / 標準化 )，何者效果最好?\n",
    "  #df_MinMax = MinMaxScaler().fit_transform(df)     # 搭配最大最小化\n",
    "  #df_Std = StandardScaler().fit_transform(df)     # 搭配標準化\n",
    "\n",
    "# 利用LogisticRegression和cross_val_score預視結果:  \n",
    "  #空值補平均值 \n",
    "df_train_mn = df_num.fillna(df_num.mean())    # train_X = df_mn[:train_num] \n",
    "train_num = train_Y.shape[0]\n",
    "train_X = df_train_mn[:train_num]  #取訓練料集 建模型\n",
    "estimator = LogisticRegression()\n",
    "print('調整mn_後cross_val_score:', cross_val_score(estimator, train_X, train_Y, cv=5).mean())\n",
    "\n",
    "\n",
    "  #空值補平均值, 搭配最大最小化, 有較好結果\n",
    "df_mn = df_num.fillna(df_num.mean())    # train_X = df_mn[:train_num] \n",
    "df_MinMax = MinMaxScaler().fit_transform(df_mn) #有一些特殊變數，如具有特殊意義，這類變數並不適合做標準化或其他Scaler，一般模型中需要統一使用同一種特徵縮放的方法\n",
    "df_train_mnMinMax = pd.DataFrame(df_MinMax , columns=df_num.columns)\n",
    "train_X = df_train_mnMinMax[:train_num]  #取訓練料集 建模型\n",
    "estimator = LogisticRegression()\n",
    "print('調整mn_MinMax後cross_val_score:', cross_val_score(estimator, train_X, train_Y, cv=5).mean())"
   ]
  },
  {
   "cell_type": "code",
   "execution_count": 5,
   "metadata": {},
   "outputs": [
    {
     "data": {
      "image/png": "[encoded data removed]",
      "text/plain": [
       "<Figure size 432x288 with 1 Axes>"
      ]
     },
     "metadata": {
      "needs_background": "light"
     },
     "output_type": "display_data"
    },
    {
     "name": "stdout",
     "output_type": "stream",
     "text": [
      "原始資料筆數: (891, 5)\n",
      "捨棄離群值後筆數: (884, 5)\n"
     ]
    },
    {
     "data": {
      "image/png": "[encoded data removed]",
      "text/plain": [
       "<Figure size 432x288 with 1 Axes>"
      ]
     },
     "metadata": {
      "needs_background": "light"
     },
     "output_type": "display_data"
    },
    {
     "name": "stdout",
     "output_type": "stream",
     "text": [
      "調整*捨棄離群值*後cross_val_score: 0.6924284984678243\n"
     ]
    },
    {
     "name": "stderr",
     "output_type": "stream",
     "text": [
      "C:\\Users\\Administrator\\Anaconda3\\lib\\site-packages\\sklearn\\linear_model\\logistic.py:433: FutureWarning: Default solver will be changed to 'lbfgs' in 0.22. Specify a solver to silence this warning.\n",
      "  FutureWarning)\n",
      "C:\\Users\\Administrator\\Anaconda3\\lib\\site-packages\\sklearn\\linear_model\\logistic.py:433: FutureWarning: Default solver will be changed to 'lbfgs' in 0.22. Specify a solver to silence this warning.\n",
      "  FutureWarning)\n",
      "C:\\Users\\Administrator\\Anaconda3\\lib\\site-packages\\sklearn\\linear_model\\logistic.py:433: FutureWarning: Default solver will be changed to 'lbfgs' in 0.22. Specify a solver to silence this warning.\n",
      "  FutureWarning)\n",
      "C:\\Users\\Administrator\\Anaconda3\\lib\\site-packages\\sklearn\\linear_model\\logistic.py:433: FutureWarning: Default solver will be changed to 'lbfgs' in 0.22. Specify a solver to silence this warning.\n",
      "  FutureWarning)\n",
      "C:\\Users\\Administrator\\Anaconda3\\lib\\site-packages\\sklearn\\linear_model\\logistic.py:433: FutureWarning: Default solver will be changed to 'lbfgs' in 0.22. Specify a solver to silence this warning.\n",
      "  FutureWarning)\n"
     ]
    }
   ],
   "source": [
    "#D20_數值型特徵-去除離群值\n",
    "#試著限制 '鐵達尼號上的兄弟姊妹/配偶數量' (SibSp) 欄位的上下限, 看看能否再進一步提高分數?\n",
    "# 顯示 1stFlrSF 與目標值的散佈圖\n",
    "import seaborn as sns\n",
    "import matplotlib.pyplot as plt\n",
    "train_num = train_Y.shape[0]\n",
    "sns.regplot(x = df_mn['SibSp'][:train_num], y=train_Y)\n",
    "plt.show()\n",
    "\n",
    "# 將 SibSp 限制在 0 到 8 以內, 調整極端值在範圍內 [numpy.clip(a, a_min, a_max, out=None) 也就是說clip這個函數將將陣列中的元素x限制在a_min, a_max之間，大於a_max的就使得它等於 a_max，小於a_min,的就使得它等於a_min。]\n",
    "  #df['SibSp'] = df['Fare'].clip(0, 8)  \n",
    "# 將 SibSp 保留在 0 到 8 以內, 捨棄離群值\n",
    "  #keep_indexs = (df['SibSp']> 0) & (df['SibSp']< 8)\n",
    "  #df_keep = df[keep_indexs]\n",
    "  #train_Y = train_Y[keep_indexs]\n",
    "    \n",
    "# 做迴歸, 觀察分數: \n",
    "   # 以平均值 補值，並將 SibSp 保留在 0 到 8 以內, 捨棄離群值\n",
    "df_mn = df_num.fillna(df_num.mean())\n",
    "df_train_mn=df_mn[:train_num]\n",
    "print(\"原始資料筆數:\", df_train_mn.shape)\n",
    "keep_indexs = (df_train_mn['SibSp']>= 0) & (df_train_mn['SibSp']< 8)\n",
    "df_keep = df_train_mn[keep_indexs]\n",
    "print(\"捨棄離群值後筆數:\", df_keep.shape)\n",
    "train_Y_keep = train_Y[keep_indexs]\n",
    "sns.regplot(x = df_keep['SibSp'], y=train_Y_keep)\n",
    "plt.show()\n",
    "\n",
    "train_X_keep = df_keep  #取訓練料集 建模型\n",
    "estimator = LogisticRegression()\n",
    "print('調整*捨棄離群值*後cross_val_score:', cross_val_score(estimator, train_X_keep, train_Y_keep, cv=5).mean())"
   ]
  },
  {
   "cell_type": "code",
   "execution_count": 6,
   "metadata": {},
   "outputs": [
    {
     "data": {
      "image/png": "[encoded data removed]",
      "text/plain": [
       "<Figure size 432x288 with 1 Axes>"
      ]
     },
     "metadata": {
      "needs_background": "light"
     },
     "output_type": "display_data"
    },
    {
     "data": {
      "image/png": "[encoded data removed]",
      "text/plain": [
       "<Figure size 432x288 with 1 Axes>"
      ]
     },
     "metadata": {
      "needs_background": "light"
     },
     "output_type": "display_data"
    },
    {
     "name": "stderr",
     "output_type": "stream",
     "text": [
      "C:\\Users\\Administrator\\Anaconda3\\lib\\site-packages\\sklearn\\linear_model\\logistic.py:433: FutureWarning: Default solver will be changed to 'lbfgs' in 0.22. Specify a solver to silence this warning.\n",
      "  FutureWarning)\n",
      "C:\\Users\\Administrator\\Anaconda3\\lib\\site-packages\\sklearn\\linear_model\\logistic.py:433: FutureWarning: Default solver will be changed to 'lbfgs' in 0.22. Specify a solver to silence this warning.\n",
      "  FutureWarning)\n",
      "C:\\Users\\Administrator\\Anaconda3\\lib\\site-packages\\sklearn\\linear_model\\logistic.py:433: FutureWarning: Default solver will be changed to 'lbfgs' in 0.22. Specify a solver to silence this warning.\n",
      "  FutureWarning)\n",
      "C:\\Users\\Administrator\\Anaconda3\\lib\\site-packages\\sklearn\\linear_model\\logistic.py:433: FutureWarning: Default solver will be changed to 'lbfgs' in 0.22. Specify a solver to silence this warning.\n",
      "  FutureWarning)\n",
      "C:\\Users\\Administrator\\Anaconda3\\lib\\site-packages\\sklearn\\linear_model\\logistic.py:433: FutureWarning: Default solver will be changed to 'lbfgs' in 0.22. Specify a solver to silence this warning.\n",
      "  FutureWarning)\n"
     ]
    },
    {
     "name": "stdout",
     "output_type": "stream",
     "text": [
      "調整log1p後cross_val_score: 0.7038383040988557\n"
     ]
    },
    {
     "data": {
      "image/png": "[encoded data removed]",
      "text/plain": [
       "<Figure size 432x288 with 1 Axes>"
      ]
     },
     "metadata": {
      "needs_background": "light"
     },
     "output_type": "display_data"
    },
    {
     "name": "stdout",
     "output_type": "stream",
     "text": [
      "調整boxcox0後cross_val_score: 0.7027336816575154\n"
     ]
    },
    {
     "name": "stderr",
     "output_type": "stream",
     "text": [
      "C:\\Users\\Administrator\\Anaconda3\\lib\\site-packages\\sklearn\\linear_model\\logistic.py:433: FutureWarning: Default solver will be changed to 'lbfgs' in 0.22. Specify a solver to silence this warning.\n",
      "  FutureWarning)\n",
      "C:\\Users\\Administrator\\Anaconda3\\lib\\site-packages\\sklearn\\linear_model\\logistic.py:433: FutureWarning: Default solver will be changed to 'lbfgs' in 0.22. Specify a solver to silence this warning.\n",
      "  FutureWarning)\n",
      "C:\\Users\\Administrator\\Anaconda3\\lib\\site-packages\\sklearn\\linear_model\\logistic.py:433: FutureWarning: Default solver will be changed to 'lbfgs' in 0.22. Specify a solver to silence this warning.\n",
      "  FutureWarning)\n",
      "C:\\Users\\Administrator\\Anaconda3\\lib\\site-packages\\sklearn\\linear_model\\logistic.py:433: FutureWarning: Default solver will be changed to 'lbfgs' in 0.22. Specify a solver to silence this warning.\n",
      "  FutureWarning)\n",
      "C:\\Users\\Administrator\\Anaconda3\\lib\\site-packages\\sklearn\\linear_model\\logistic.py:433: FutureWarning: Default solver will be changed to 'lbfgs' in 0.22. Specify a solver to silence this warning.\n",
      "  FutureWarning)\n"
     ]
    }
   ],
   "source": [
    "#D21_數值型特徵-去除偏態\n",
    "# 顯示 Fare 與目標值的散佈圖\n",
    "import numpy as np\n",
    "import copy\n",
    "import seaborn as sns\n",
    "import matplotlib.pyplot as plt\n",
    "sns.distplot(df['Fare'][:train_num])\n",
    "plt.show()\n",
    "\n",
    "\n",
    "# 將 Fare 取 log1p [[ log1p = log（x+1）]]後, 看散佈圖, 並計算分數:\n",
    " #df_fixed['Fare'] = np.log1p(df_fixed['Fare'])\n",
    "# 將 Fare 取 boxcox 後, 看散佈圖, 並計算分數  \n",
    " #面對有數值=0 的情況，修正方式 : 加入下面這一行, 使最小值大於 0, 類似log1p的概念\n",
    " #df_fixed['Fare'] = df_fixed['Fare'] + 1  \n",
    " #df_fixed['Fare'] = stats.boxcox(df_fixed['Fare'])[0]\n",
    "    \n",
    "\n",
    "# 將 Fare 取 log1p [[ log1p = log（x+1）]]後, 看散佈圖, 並計算分數:\n",
    "   # 以平均值 補值， \n",
    "df_mn = df_num.fillna(df_num.mean())\n",
    "df_mn_log1p = copy.deepcopy(df_mn)       #複製獨立檔案出來 整理\n",
    "df_mn_log1p['Fare'] = np.log1p(df_mn_log1p['Fare'])\n",
    "sns.distplot(df_mn_log1p['Fare'][:train_num])\n",
    "plt.show()\n",
    "\n",
    "train_X = df_mn_log1p[:train_num]\n",
    "estimator = LogisticRegression()\n",
    "print('調整log1p後cross_val_score:', cross_val_score(estimator, train_X, train_Y, cv=5).mean())\n",
    "\n",
    "\n",
    "# 將 Fare 取 boxcox (lambda=0) [[即 log]] 後, 看散佈圖, 並計算分數  \n",
    "   # 以平均值 補值， boxcox說明見 https://docs.scipy.org/doc/scipy/reference/generated/scipy.stats.boxcox.html\n",
    "df_mn = df_num.fillna(df_num.mean())\n",
    "df_mn_boxcox = copy.deepcopy(df_mn)       #複製獨立檔案出來 整理\n",
    "from scipy import stats\n",
    "df_mn_boxcox['Fare'] = df_mn_boxcox['Fare'] + 1  #Data must be positive. 面對有數值=0 的情況，修正方式 : 加入下面這一行, 使最小值大於 0, 類似log1p的概念\n",
    "df_mn_boxcox['Fare'] = stats.boxcox(df_mn_boxcox['Fare'])[0]  # Box-Cox power transformed array取第一筆的統計資料\n",
    "    #If lmbda is None, find the lambda that maximizes the log-likelihood function and return it as the second output argument.\n",
    "sns.distplot(df_mn_boxcox['Fare'][:train_num])\n",
    "plt.show()\n",
    "\n",
    "train_X = df_mn_boxcox[:train_num]\n",
    "estimator = LogisticRegression()\n",
    "print('調整boxcox0後cross_val_score:', cross_val_score(estimator, train_X, train_Y, cv=5).mean())"
   ]
  },
  {
   "cell_type": "code",
   "execution_count": 7,
   "metadata": {},
   "outputs": [
    {
     "name": "stdout",
     "output_type": "stream",
     "text": [
      "df['Pclass'] \n",
      "3    709\n",
      "1    323\n",
      "2    277\n",
      "Name: Pclass, dtype: int64\n",
      "df['SibSp'] \n",
      "0    891\n",
      "1    319\n",
      "2     42\n",
      "4     22\n",
      "3     20\n",
      "8      9\n",
      "5      6\n",
      "Name: SibSp, dtype: int64\n",
      "df['Parch'] \n",
      "0    1002\n",
      "1     170\n",
      "2     113\n",
      "3       8\n",
      "5       6\n",
      "4       6\n",
      "9       2\n",
      "6       2\n",
      "Name: Parch, dtype: int64\n"
     ]
    }
   ],
   "source": [
    "# 3 Integer Features : ['Pclass', 'SibSp', 'Parch'] \n",
    "# pclass 購票分級  \n",
    "# sibsp 鐵達尼號上的兄弟姊妹/配偶數量\n",
    "# parch 鐵達尼號上的雙親/子女數量\n",
    "\n",
    "print(f\"df['Pclass'] \\n{df['Pclass'].value_counts()}\")\n",
    "print(f\"df['SibSp'] \\n{df['SibSp'].value_counts()}\")\n",
    "print(f\"df['Parch'] \\n{df['Parch'].value_counts()}\")\n",
    "\n",
    "# 思考: 這三個整數變數，是否為類別變數呢？ 是否考慮分組來分析？"
   ]
  },
  {
   "cell_type": "markdown",
   "metadata": {},
   "source": [
    "######################\n",
    "## 類別型特徵\n",
    "######################"
   ]
  },
  {
   "cell_type": "code",
   "execution_count": 8,
   "metadata": {},
   "outputs": [
    {
     "name": "stdout",
     "output_type": "stream",
     "text": [
      "各欄位Missing的量: \n",
      "Name           0\n",
      "Sex            0\n",
      "Ticket         0\n",
      "Cabin       1014\n",
      "Embarked       2\n",
      "dtype: int64\n",
      "                                                Name     Sex  \\\n",
      "0                            Braund, Mr. Owen Harris    male   \n",
      "1  Cumings, Mrs. John Bradley (Florence Briggs Th...  female   \n",
      "2                             Heikkinen, Miss. Laina  female   \n",
      "3       Futrelle, Mrs. Jacques Heath (Lily May Peel)  female   \n",
      "4                           Allen, Mr. William Henry    male   \n",
      "\n",
      "             Ticket Cabin Embarked  \n",
      "0         A/5 21171  None        S  \n",
      "1          PC 17599   C85        C  \n",
      "2  STON/O2. 3101282  None        S  \n",
      "3            113803  C123        S  \n",
      "4            373450  None        S  \n",
      "\n",
      " ========== \n",
      " LabelEncoder 標籤編碼 + 羅吉斯迴歸\n",
      "shape : (891, 5)\n",
      "score : 0.780004837244799\n",
      "\n",
      " ========== \n",
      " One Hot Encoding 獨熱編碼 + 羅吉斯迴歸\n",
      "shape : (891, 2429)\n",
      "score : 0.8013346043513216"
     ]
    },
    {
     "name": "stderr",
     "output_type": "stream",
     "text": [
      "C:\\Users\\Administrator\\Anaconda3\\lib\\site-packages\\sklearn\\linear_model\\logistic.py:433: FutureWarning: Default solver will be changed to 'lbfgs' in 0.22. Specify a solver to silence this warning.\n",
      "  FutureWarning)\n",
      "C:\\Users\\Administrator\\Anaconda3\\lib\\site-packages\\sklearn\\linear_model\\logistic.py:433: FutureWarning: Default solver will be changed to 'lbfgs' in 0.22. Specify a solver to silence this warning.\n",
      "  FutureWarning)\n",
      "C:\\Users\\Administrator\\Anaconda3\\lib\\site-packages\\sklearn\\linear_model\\logistic.py:433: FutureWarning: Default solver will be changed to 'lbfgs' in 0.22. Specify a solver to silence this warning.\n",
      "  FutureWarning)\n",
      "C:\\Users\\Administrator\\Anaconda3\\lib\\site-packages\\sklearn\\linear_model\\logistic.py:433: FutureWarning: Default solver will be changed to 'lbfgs' in 0.22. Specify a solver to silence this warning.\n",
      "  FutureWarning)\n",
      "C:\\Users\\Administrator\\Anaconda3\\lib\\site-packages\\sklearn\\linear_model\\logistic.py:433: FutureWarning: Default solver will be changed to 'lbfgs' in 0.22. Specify a solver to silence this warning.\n",
      "  FutureWarning)\n",
      "C:\\Users\\Administrator\\Anaconda3\\lib\\site-packages\\sklearn\\linear_model\\logistic.py:433: FutureWarning: Default solver will be changed to 'lbfgs' in 0.22. Specify a solver to silence this warning.\n",
      "  FutureWarning)\n",
      "C:\\Users\\Administrator\\Anaconda3\\lib\\site-packages\\sklearn\\linear_model\\logistic.py:433: FutureWarning: Default solver will be changed to 'lbfgs' in 0.22. Specify a solver to silence this warning.\n",
      "  FutureWarning)\n",
      "C:\\Users\\Administrator\\Anaconda3\\lib\\site-packages\\sklearn\\linear_model\\logistic.py:433: FutureWarning: Default solver will be changed to 'lbfgs' in 0.22. Specify a solver to silence this warning.\n",
      "  FutureWarning)\n",
      "C:\\Users\\Administrator\\Anaconda3\\lib\\site-packages\\sklearn\\linear_model\\logistic.py:433: FutureWarning: Default solver will be changed to 'lbfgs' in 0.22. Specify a solver to silence this warning.\n",
      "  FutureWarning)\n",
      "C:\\Users\\Administrator\\Anaconda3\\lib\\site-packages\\sklearn\\linear_model\\logistic.py:433: FutureWarning: Default solver will be changed to 'lbfgs' in 0.22. Specify a solver to silence this warning.\n",
      "  FutureWarning)\n"
     ]
    },
    {
     "name": "stdout",
     "output_type": "stream",
     "text": [
      "\n",
      "\n",
      " ========== \n",
      " Mean Encoding 均值編碼 + 羅吉斯迴歸\n",
      "shape : (891, 3)\n",
      "score : 0.8350366889413987\n",
      "Note:  因為Name與Ticket兩個欄位的種類數眾多, 如果均值編碼時加入這裡個欄位的均值會過擬合(overfitting), 因此程式碼中，需要先移除這兩個欄位，再做均值編碼\n",
      "\n",
      " \n",
      " ========== ==========\n",
      " ========== ========== \n",
      "加上 Cabin 欄位的計數編碼 \n",
      "\n",
      "                                        Name     Sex           Ticket Cabin  \\\n",
      "0                    Braund, Mr. Owen Harris    male        A/5 21171  None   \n",
      "822          Reuchlin, Jonkheer. John George    male            19972  None   \n",
      "830  Yasbeck, Mrs. Antoni (Selini Alexander)  female             2659  None   \n",
      "828             McCormack, Mr. Thomas Joseph    male           367228  None   \n",
      "827                    Mallet, Master. Andre    male  S.C./PARIS 2079  None   \n",
      "826                             Lam, Mr. Len    male             1601  None   \n",
      "825                          Flynn, Mr. John    male           368323  None   \n",
      "824             Panula, Master. Urho Abraham    male          3101295  None   \n",
      "821                        Lulic, Mr. Nikola    male           315098  None   \n",
      "832                           Saad, Mr. Amin    male             2671  None   \n",
      "\n",
      "    Embarked  Cabin_Count  \n",
      "0          S         1014  \n",
      "822        S         1014  \n",
      "830        C         1014  \n",
      "828        Q         1014  \n",
      "827        C         1014  \n",
      "826        S         1014  \n",
      "825        Q         1014  \n",
      "824        S         1014  \n",
      "821        S         1014  \n",
      "832        C         1014  \n",
      "\n",
      " ========== \n",
      " Counting 計數編碼 + 羅吉斯迴歸\n",
      "0.7856230275549181\n",
      "\n",
      " ========== \n",
      " Feature Hash特徵雜湊 + 羅吉斯迴歸\n",
      "0.778919116940393\n",
      "\n",
      " ========== \n",
      " 計數編碼 + 特徵雜湊 + 羅吉斯迴歸\n",
      "0.7777766192978406\n",
      "\n",
      "計數編碼 + 特徵雜湊DATA \n",
      "    Name  Sex  Ticket  Cabin  Embarked  Cabin_Hash  Cabin_Count\n",
      "0   155    1     720    185         3           1         1014\n",
      "1   286    0     816    106         0           2            2\n",
      "2   523    0     914    185         3           1         1014\n",
      "3   422    0      65     70         3           2            2\n",
      "4    22    1     649    185         3           1         1014\n",
      "5   818    1     373    185         2           1         1014\n",
      "6   767    1     109    163         3           0            2\n",
      "7   914    1     541    185         3           1         1014\n",
      "8   605    0     477    185         3           1         1014\n",
      "9   847    0     174    185         0           1         1014\n"
     ]
    },
    {
     "name": "stderr",
     "output_type": "stream",
     "text": [
      "C:\\Users\\Administrator\\Anaconda3\\lib\\site-packages\\sklearn\\linear_model\\logistic.py:433: FutureWarning: Default solver will be changed to 'lbfgs' in 0.22. Specify a solver to silence this warning.\n",
      "  FutureWarning)\n",
      "C:\\Users\\Administrator\\Anaconda3\\lib\\site-packages\\sklearn\\linear_model\\logistic.py:433: FutureWarning: Default solver will be changed to 'lbfgs' in 0.22. Specify a solver to silence this warning.\n",
      "  FutureWarning)\n",
      "C:\\Users\\Administrator\\Anaconda3\\lib\\site-packages\\sklearn\\linear_model\\logistic.py:433: FutureWarning: Default solver will be changed to 'lbfgs' in 0.22. Specify a solver to silence this warning.\n",
      "  FutureWarning)\n",
      "C:\\Users\\Administrator\\Anaconda3\\lib\\site-packages\\sklearn\\linear_model\\logistic.py:433: FutureWarning: Default solver will be changed to 'lbfgs' in 0.22. Specify a solver to silence this warning.\n",
      "  FutureWarning)\n",
      "C:\\Users\\Administrator\\Anaconda3\\lib\\site-packages\\sklearn\\linear_model\\logistic.py:433: FutureWarning: Default solver will be changed to 'lbfgs' in 0.22. Specify a solver to silence this warning.\n",
      "  FutureWarning)\n",
      "C:\\Users\\Administrator\\Anaconda3\\lib\\site-packages\\ipykernel_launcher.py:49: FutureWarning: using a dict on a Series for aggregation\n",
      "is deprecated and will be removed in a future version\n",
      "C:\\Users\\Administrator\\Anaconda3\\lib\\site-packages\\sklearn\\linear_model\\logistic.py:433: FutureWarning: Default solver will be changed to 'lbfgs' in 0.22. Specify a solver to silence this warning.\n",
      "  FutureWarning)\n",
      "C:\\Users\\Administrator\\Anaconda3\\lib\\site-packages\\sklearn\\linear_model\\logistic.py:433: FutureWarning: Default solver will be changed to 'lbfgs' in 0.22. Specify a solver to silence this warning.\n",
      "  FutureWarning)\n",
      "C:\\Users\\Administrator\\Anaconda3\\lib\\site-packages\\sklearn\\linear_model\\logistic.py:433: FutureWarning: Default solver will be changed to 'lbfgs' in 0.22. Specify a solver to silence this warning.\n",
      "  FutureWarning)\n",
      "C:\\Users\\Administrator\\Anaconda3\\lib\\site-packages\\sklearn\\linear_model\\logistic.py:433: FutureWarning: Default solver will be changed to 'lbfgs' in 0.22. Specify a solver to silence this warning.\n",
      "  FutureWarning)\n",
      "C:\\Users\\Administrator\\Anaconda3\\lib\\site-packages\\sklearn\\linear_model\\logistic.py:433: FutureWarning: Default solver will be changed to 'lbfgs' in 0.22. Specify a solver to silence this warning.\n",
      "  FutureWarning)\n",
      "C:\\Users\\Administrator\\Anaconda3\\lib\\site-packages\\sklearn\\linear_model\\logistic.py:433: FutureWarning: Default solver will be changed to 'lbfgs' in 0.22. Specify a solver to silence this warning.\n",
      "  FutureWarning)\n",
      "C:\\Users\\Administrator\\Anaconda3\\lib\\site-packages\\sklearn\\linear_model\\logistic.py:433: FutureWarning: Default solver will be changed to 'lbfgs' in 0.22. Specify a solver to silence this warning.\n",
      "  FutureWarning)\n",
      "C:\\Users\\Administrator\\Anaconda3\\lib\\site-packages\\sklearn\\linear_model\\logistic.py:433: FutureWarning: Default solver will be changed to 'lbfgs' in 0.22. Specify a solver to silence this warning.\n",
      "  FutureWarning)\n",
      "C:\\Users\\Administrator\\Anaconda3\\lib\\site-packages\\sklearn\\linear_model\\logistic.py:433: FutureWarning: Default solver will be changed to 'lbfgs' in 0.22. Specify a solver to silence this warning.\n",
      "  FutureWarning)\n",
      "C:\\Users\\Administrator\\Anaconda3\\lib\\site-packages\\sklearn\\linear_model\\logistic.py:433: FutureWarning: Default solver will be changed to 'lbfgs' in 0.22. Specify a solver to silence this warning.\n",
      "  FutureWarning)\n",
      "C:\\Users\\Administrator\\Anaconda3\\lib\\site-packages\\sklearn\\linear_model\\logistic.py:433: FutureWarning: Default solver will be changed to 'lbfgs' in 0.22. Specify a solver to silence this warning.\n",
      "  FutureWarning)\n",
      "C:\\Users\\Administrator\\Anaconda3\\lib\\site-packages\\sklearn\\linear_model\\logistic.py:433: FutureWarning: Default solver will be changed to 'lbfgs' in 0.22. Specify a solver to silence this warning.\n",
      "  FutureWarning)\n",
      "C:\\Users\\Administrator\\Anaconda3\\lib\\site-packages\\sklearn\\linear_model\\logistic.py:433: FutureWarning: Default solver will be changed to 'lbfgs' in 0.22. Specify a solver to silence this warning.\n",
      "  FutureWarning)\n",
      "C:\\Users\\Administrator\\Anaconda3\\lib\\site-packages\\sklearn\\linear_model\\logistic.py:433: FutureWarning: Default solver will be changed to 'lbfgs' in 0.22. Specify a solver to silence this warning.\n",
      "  FutureWarning)\n",
      "C:\\Users\\Administrator\\Anaconda3\\lib\\site-packages\\sklearn\\linear_model\\logistic.py:433: FutureWarning: Default solver will be changed to 'lbfgs' in 0.22. Specify a solver to silence this warning.\n",
      "  FutureWarning)\n"
     ]
    }
   ],
   "source": [
    "#D22_類別型特徵 - 標籤編碼、獨熱編碼\n",
    "# 只留類別型欄位\n",
    "df_obj = df[object_features]\n",
    "print(f'各欄位Missing的量: \\n{df_obj.isnull().sum()}')  # 觀察 missing 狀況  , 只有 Cabin 和 Embarked 有missing\n",
    "#補值\n",
    "df_obj = df_obj.fillna('None')\n",
    "train_num = train_Y.shape[0]\n",
    "print (df_obj.head())\n",
    "\n",
    "from sklearn.preprocessing import LabelEncoder\n",
    "# LabelEncoder 標籤編碼 + 羅吉斯迴歸\n",
    "print(f'\\n ========== \\n LabelEncoder 標籤編碼 + 羅吉斯迴歸')\n",
    "df_temp = pd.DataFrame()\n",
    "for c in df_obj.columns:\n",
    "    df_temp[c] = LabelEncoder().fit_transform(df_obj[c])\n",
    "train_X = df_temp[:train_num]\n",
    "estimator = LogisticRegression()\n",
    "print(f'shape : {train_X.shape}')\n",
    "print(f'score : {cross_val_score(estimator, train_X, train_Y, cv=5).mean()}')\n",
    "\n",
    "# One Hot Encoding 獨熱編碼 + 羅吉斯迴歸\n",
    "print(f'\\n ========== \\n One Hot Encoding 獨熱編碼 + 羅吉斯迴歸')\n",
    "df_temp = pd.get_dummies(df_obj)\n",
    "train_X = df_temp[:train_num]\n",
    "estimator = LogisticRegression()\n",
    "print(f'shape : {train_X.shape}')\n",
    "print(f'score : {cross_val_score(estimator, train_X, train_Y, cv=5).mean()}')\n",
    "\n",
    "\n",
    "\n",
    "#D23_類別型特徵 - 均值編碼 \n",
    "# Mean Encoding 均值編碼 + 羅吉斯迴歸\n",
    "print(f'\\n ========== \\n Mean Encoding 均值編碼 + 羅吉斯迴歸')\n",
    "df_temp = pd.concat([df_obj[:train_num], train_Y], axis=1)\n",
    "for c in df_obj.columns:\n",
    "    mean_df = df_temp.groupby([c])['Survived'].mean().reset_index()\n",
    "    mean_df.columns = [c, f'{c}_mean']\n",
    "    df_temp = pd.merge(df_temp, mean_df, on=c, how='left')\n",
    "    df_temp = df_temp.drop([c] , axis=1)\n",
    "train_X = df_temp.drop(['Survived', 'Name_mean', 'Ticket_mean'] , axis=1)\n",
    "estimator = LogisticRegression()\n",
    "print(f'shape : {train_X.shape}')\n",
    "print(f'score : {cross_val_score(estimator, train_X, train_Y, cv=5).mean()}')\n",
    "print(f'Note:  因為Name與Ticket兩個欄位的種類數眾多, 如果均值編碼時加入這裡個欄位的均值會過擬合(overfitting), 因此程式碼中，需要先移除這兩個欄位，再做均值編碼')\n",
    "\n",
    "#D23_類別型特徵 - 計數編碼、特徵雜湊\n",
    "# 加上 'Cabin' 欄位的計數編碼\n",
    "print(f'\\n \\n ========== ==========\\n ========== ========== \\n加上 Cabin 欄位的計數編碼 \\n')\n",
    "count_df = df_obj.groupby(['Cabin'])['Name'].agg({'Cabin_Count':'size'}).reset_index()\n",
    "count_df = pd.merge(df_obj, count_df, on=['Cabin'], how='left')\n",
    "print(count_df.sort_values(by=['Cabin_Count'], ascending=False).head(10))\n",
    "\n",
    "\n",
    "\n",
    "# Counting 計數編碼 + 邏輯斯迴歸\n",
    "print(f'\\n ========== \\n Counting 計數編碼 + 羅吉斯迴歸')\n",
    "df_temp = pd.DataFrame()\n",
    "for c in object_features:\n",
    "    df_temp[c] = LabelEncoder().fit_transform(count_df[c])\n",
    "df_temp['Cabin_Count'] = count_df['Cabin_Count']\n",
    "train_X = df_temp[:train_num]\n",
    "estimator = LogisticRegression()\n",
    "print(cross_val_score(estimator, train_X, train_Y, cv=5).mean())\n",
    "\n",
    "\n",
    "# Feature Hash特徵雜湊 + 邏輯斯迴歸\n",
    "df_temp = pd.DataFrame()\n",
    "print(f'\\n ========== \\n Feature Hash特徵雜湊 + 羅吉斯迴歸')\n",
    "for c in object_features:\n",
    "    df_temp[c] = LabelEncoder().fit_transform(count_df[c])\n",
    "df_temp['Cabin_Hash'] = count_df['Cabin'].map(lambda x:hash(x) % 5)\n",
    "train_X = df_temp[:train_num]\n",
    "estimator = LogisticRegression()\n",
    "print(cross_val_score(estimator, train_X, train_Y, cv=5).mean())\n",
    "\n",
    "\n",
    "# 計數編碼 + 特徵雜湊 + 邏輯斯迴歸\n",
    "print(f'\\n ========== \\n 計數編碼 + 特徵雜湊 + 羅吉斯迴歸')\n",
    "df_temp = pd.DataFrame()\n",
    "for c in object_features:\n",
    "    df_temp[c] = LabelEncoder().fit_transform(count_df[c])\n",
    "df_temp['Cabin_Hash'] = count_df['Cabin'].map(lambda x:hash(x) % 5)\n",
    "df_temp['Cabin_Count'] = count_df['Cabin_Count']\n",
    "train_X = df_temp[:train_num]\n",
    "estimator = LogisticRegression()\n",
    "print(cross_val_score(estimator, train_X, train_Y, cv=5).mean())\n",
    "print(f'\\n計數編碼 + 特徵雜湊DATA \\n {df_temp.head(10)}')"
   ]
  },
  {
   "cell_type": "code",
   "execution_count": 10,
   "metadata": {},
   "outputs": [
    {
     "data": {
      "text/html": [
       "<div>\n",
       "<style scoped>\n",
       "    .dataframe tbody tr th:only-of-type {\n",
       "        vertical-align: middle;\n",
       "    }\n",
       "\n",
       "    .dataframe tbody tr th {\n",
       "        vertical-align: top;\n",
       "    }\n",
       "\n",
       "    .dataframe thead th {\n",
       "        text-align: right;\n",
       "    }\n",
       "</style>\n",
       "<table border=\"1\" class=\"dataframe\">\n",
       "  <thead>\n",
       "    <tr style=\"text-align: right;\">\n",
       "      <th></th>\n",
       "      <th>Ticket</th>\n",
       "      <th>Age_Mean</th>\n",
       "      <th>Age_Mode</th>\n",
       "      <th>Age_Median</th>\n",
       "      <th>Age_Max</th>\n",
       "      <th>Age_Min</th>\n",
       "    </tr>\n",
       "  </thead>\n",
       "  <tbody>\n",
       "    <tr>\n",
       "      <th>0</th>\n",
       "      <td>110152</td>\n",
       "      <td>26.333333</td>\n",
       "      <td>16.000000</td>\n",
       "      <td>30.000000</td>\n",
       "      <td>33.0</td>\n",
       "      <td>16.000000</td>\n",
       "    </tr>\n",
       "    <tr>\n",
       "      <th>1</th>\n",
       "      <td>110413</td>\n",
       "      <td>36.333333</td>\n",
       "      <td>18.000000</td>\n",
       "      <td>39.000000</td>\n",
       "      <td>52.0</td>\n",
       "      <td>18.000000</td>\n",
       "    </tr>\n",
       "    <tr>\n",
       "      <th>2</th>\n",
       "      <td>110465</td>\n",
       "      <td>38.440569</td>\n",
       "      <td>29.881138</td>\n",
       "      <td>38.440569</td>\n",
       "      <td>47.0</td>\n",
       "      <td>29.881138</td>\n",
       "    </tr>\n",
       "    <tr>\n",
       "      <th>3</th>\n",
       "      <td>110469</td>\n",
       "      <td>30.000000</td>\n",
       "      <td>30.000000</td>\n",
       "      <td>30.000000</td>\n",
       "      <td>30.0</td>\n",
       "      <td>30.000000</td>\n",
       "    </tr>\n",
       "    <tr>\n",
       "      <th>4</th>\n",
       "      <td>110489</td>\n",
       "      <td>42.000000</td>\n",
       "      <td>42.000000</td>\n",
       "      <td>42.000000</td>\n",
       "      <td>42.0</td>\n",
       "      <td>42.000000</td>\n",
       "    </tr>\n",
       "  </tbody>\n",
       "</table>\n",
       "</div>"
      ],
      "text/plain": [
       "   Ticket   Age_Mean   Age_Mode  Age_Median  Age_Max    Age_Min\n",
       "0  110152  26.333333  16.000000   30.000000     33.0  16.000000\n",
       "1  110413  36.333333  18.000000   39.000000     52.0  18.000000\n",
       "2  110465  38.440569  29.881138   38.440569     47.0  29.881138\n",
       "3  110469  30.000000  30.000000   30.000000     30.0  30.000000\n",
       "4  110489  42.000000  42.000000   42.000000     42.0  42.000000"
      ]
     },
     "execution_count": 10,
     "metadata": {},
     "output_type": "execute_result"
    }
   ],
   "source": [
    "# Day_027_特徵組合 - 類別與數值組合「群聚編碼」\n",
    "#試著使用鐵達尼號的例子，創立兩種以上的群聚編碼特徵( mean、median、mode、max、min、count 均可 )\n",
    "import copy\n",
    "df_Copy=copy.deepcopy(df)\n",
    "# 取船票票號(Ticket), 對乘客年齡(Age)做群聚編碼\n",
    "df_Copy['Ticket'] = df_Copy['Ticket'].fillna('None')\n",
    "df_Copy['Age'] = df_Copy['Age'].fillna(df_Copy['Age'].mean())\n",
    "\n",
    "mean_df = df_Copy.groupby(['Ticket'])['Age'].mean().reset_index()\n",
    "mode_df = df_Copy.groupby(['Ticket'])['Age'].apply(lambda x: x.mode()[0]).reset_index()\n",
    "median_df = df_Copy.groupby(['Ticket'])['Age'].median().reset_index()\n",
    "max_df = df_Copy.groupby(['Ticket'])['Age'].max().reset_index()\n",
    "min_df = df_Copy.groupby(['Ticket'])['Age'].min().reset_index()\n",
    "temp = pd.merge(mean_df, mode_df, how='left', on=['Ticket'])\n",
    "temp = pd.merge(temp, median_df, how='left', on=['Ticket'])\n",
    "temp = pd.merge(temp, max_df, how='left', on=['Ticket'])\n",
    "temp = pd.merge(temp, min_df, how='left', on=['Ticket'])\n",
    "temp.columns = ['Ticket', 'Age_Mean', 'Age_Mode', 'Age_Median', 'Age_Max', 'Age_Min']\n",
    "temp.head()"
   ]
  },
  {
   "cell_type": "code",
   "execution_count": 11,
   "metadata": {
    "scrolled": true
   },
   "outputs": [
    {
     "data": {
      "text/html": [
       "<div>\n",
       "<style scoped>\n",
       "    .dataframe tbody tr th:only-of-type {\n",
       "        vertical-align: middle;\n",
       "    }\n",
       "\n",
       "    .dataframe tbody tr th {\n",
       "        vertical-align: top;\n",
       "    }\n",
       "\n",
       "    .dataframe thead th {\n",
       "        text-align: right;\n",
       "    }\n",
       "</style>\n",
       "<table border=\"1\" class=\"dataframe\">\n",
       "  <thead>\n",
       "    <tr style=\"text-align: right;\">\n",
       "      <th></th>\n",
       "      <th>Pclass</th>\n",
       "      <th>Name</th>\n",
       "      <th>Sex</th>\n",
       "      <th>Age</th>\n",
       "      <th>SibSp</th>\n",
       "      <th>Parch</th>\n",
       "      <th>Fare</th>\n",
       "      <th>Cabin</th>\n",
       "      <th>Embarked</th>\n",
       "      <th>Age_Mean</th>\n",
       "      <th>Age_Mode</th>\n",
       "      <th>Age_Median</th>\n",
       "      <th>Age_Max</th>\n",
       "      <th>Age_Min</th>\n",
       "    </tr>\n",
       "  </thead>\n",
       "  <tbody>\n",
       "    <tr>\n",
       "      <th>0</th>\n",
       "      <td>3</td>\n",
       "      <td>Braund, Mr. Owen Harris</td>\n",
       "      <td>male</td>\n",
       "      <td>22.0</td>\n",
       "      <td>1</td>\n",
       "      <td>0</td>\n",
       "      <td>7.2500</td>\n",
       "      <td>NaN</td>\n",
       "      <td>S</td>\n",
       "      <td>22.0</td>\n",
       "      <td>22.0</td>\n",
       "      <td>22.0</td>\n",
       "      <td>22.0</td>\n",
       "      <td>22.0</td>\n",
       "    </tr>\n",
       "    <tr>\n",
       "      <th>1</th>\n",
       "      <td>1</td>\n",
       "      <td>Cumings, Mrs. John Bradley (Florence Briggs Th...</td>\n",
       "      <td>female</td>\n",
       "      <td>38.0</td>\n",
       "      <td>1</td>\n",
       "      <td>0</td>\n",
       "      <td>71.2833</td>\n",
       "      <td>C85</td>\n",
       "      <td>C</td>\n",
       "      <td>38.5</td>\n",
       "      <td>38.0</td>\n",
       "      <td>38.5</td>\n",
       "      <td>39.0</td>\n",
       "      <td>38.0</td>\n",
       "    </tr>\n",
       "    <tr>\n",
       "      <th>2</th>\n",
       "      <td>3</td>\n",
       "      <td>Heikkinen, Miss. Laina</td>\n",
       "      <td>female</td>\n",
       "      <td>26.0</td>\n",
       "      <td>0</td>\n",
       "      <td>0</td>\n",
       "      <td>7.9250</td>\n",
       "      <td>NaN</td>\n",
       "      <td>S</td>\n",
       "      <td>26.0</td>\n",
       "      <td>26.0</td>\n",
       "      <td>26.0</td>\n",
       "      <td>26.0</td>\n",
       "      <td>26.0</td>\n",
       "    </tr>\n",
       "    <tr>\n",
       "      <th>3</th>\n",
       "      <td>1</td>\n",
       "      <td>Futrelle, Mrs. Jacques Heath (Lily May Peel)</td>\n",
       "      <td>female</td>\n",
       "      <td>35.0</td>\n",
       "      <td>1</td>\n",
       "      <td>0</td>\n",
       "      <td>53.1000</td>\n",
       "      <td>C123</td>\n",
       "      <td>S</td>\n",
       "      <td>36.0</td>\n",
       "      <td>35.0</td>\n",
       "      <td>36.0</td>\n",
       "      <td>37.0</td>\n",
       "      <td>35.0</td>\n",
       "    </tr>\n",
       "    <tr>\n",
       "      <th>4</th>\n",
       "      <td>3</td>\n",
       "      <td>Allen, Mr. William Henry</td>\n",
       "      <td>male</td>\n",
       "      <td>35.0</td>\n",
       "      <td>0</td>\n",
       "      <td>0</td>\n",
       "      <td>8.0500</td>\n",
       "      <td>NaN</td>\n",
       "      <td>S</td>\n",
       "      <td>35.0</td>\n",
       "      <td>35.0</td>\n",
       "      <td>35.0</td>\n",
       "      <td>35.0</td>\n",
       "      <td>35.0</td>\n",
       "    </tr>\n",
       "  </tbody>\n",
       "</table>\n",
       "</div>"
      ],
      "text/plain": [
       "   Pclass                                               Name     Sex   Age  \\\n",
       "0       3                            Braund, Mr. Owen Harris    male  22.0   \n",
       "1       1  Cumings, Mrs. John Bradley (Florence Briggs Th...  female  38.0   \n",
       "2       3                             Heikkinen, Miss. Laina  female  26.0   \n",
       "3       1       Futrelle, Mrs. Jacques Heath (Lily May Peel)  female  35.0   \n",
       "4       3                           Allen, Mr. William Henry    male  35.0   \n",
       "\n",
       "   SibSp  Parch     Fare Cabin Embarked  Age_Mean  Age_Mode  Age_Median  \\\n",
       "0      1      0   7.2500   NaN        S      22.0      22.0        22.0   \n",
       "1      1      0  71.2833   C85        C      38.5      38.0        38.5   \n",
       "2      0      0   7.9250   NaN        S      26.0      26.0        26.0   \n",
       "3      1      0  53.1000  C123        S      36.0      35.0        36.0   \n",
       "4      0      0   8.0500   NaN        S      35.0      35.0        35.0   \n",
       "\n",
       "   Age_Max  Age_Min  \n",
       "0     22.0     22.0  \n",
       "1     39.0     38.0  \n",
       "2     26.0     26.0  \n",
       "3     37.0     35.0  \n",
       "4     35.0     35.0  "
      ]
     },
     "execution_count": 11,
     "metadata": {},
     "output_type": "execute_result"
    }
   ],
   "source": [
    "df_Copy = pd.merge(df_Copy, temp, how='left', on=['Ticket'])\n",
    "df_Copy = df_Copy.drop(['Ticket'] , axis=1)\n",
    "df_Copy.head()"
   ]
  },
  {
   "cell_type": "raw",
   "metadata": {},
   "source": [
    "#### 將上述的新特徵，合併原有的欄位做生存率預估，結果是否有改善?  #### \n",
    "結果可以發現 : 不論是例題的線性迴歸或者梯度提升樹, 以及作業的邏輯斯迴歸\n",
    "聚類編碼都在正確率上有穩定提升, 這就是我們所說的:均值編碼容易overfitting/聚類編碼不容易overfitting的效果\n",
    "不過助教這邊的數值型特徵與類別型特徵, 是有特別用特徵重要性挑選過的, 因此同學自行挑選的特徵可能未必提升\n",
    "至於特徵重要性如何使用, 請同學參考 Day29 內容"
   ]
  },
  {
   "cell_type": "code",
   "execution_count": 11,
   "metadata": {},
   "outputs": [
    {
     "name": "stdout",
     "output_type": "stream",
     "text": [
      "10 Numeric Features : ['Pclass', 'Age', 'SibSp', 'Parch', 'Fare', 'Age_Mean', 'Age_Mode', 'Age_Median', 'Age_Max', 'Age_Min']\n",
      "\n"
     ]
    },
    {
     "data": {
      "text/html": [
       "<div>\n",
       "<style scoped>\n",
       "    .dataframe tbody tr th:only-of-type {\n",
       "        vertical-align: middle;\n",
       "    }\n",
       "\n",
       "    .dataframe tbody tr th {\n",
       "        vertical-align: top;\n",
       "    }\n",
       "\n",
       "    .dataframe thead th {\n",
       "        text-align: right;\n",
       "    }\n",
       "</style>\n",
       "<table border=\"1\" class=\"dataframe\">\n",
       "  <thead>\n",
       "    <tr style=\"text-align: right;\">\n",
       "      <th></th>\n",
       "      <th>Pclass</th>\n",
       "      <th>Name</th>\n",
       "      <th>Sex</th>\n",
       "      <th>Age</th>\n",
       "      <th>SibSp</th>\n",
       "      <th>Parch</th>\n",
       "      <th>Ticket</th>\n",
       "      <th>Fare</th>\n",
       "      <th>Cabin</th>\n",
       "      <th>Embarked</th>\n",
       "    </tr>\n",
       "  </thead>\n",
       "  <tbody>\n",
       "    <tr>\n",
       "      <th>0</th>\n",
       "      <td>3</td>\n",
       "      <td>Braund, Mr. Owen Harris</td>\n",
       "      <td>male</td>\n",
       "      <td>22.0</td>\n",
       "      <td>1</td>\n",
       "      <td>0</td>\n",
       "      <td>A/5 21171</td>\n",
       "      <td>7.2500</td>\n",
       "      <td>NaN</td>\n",
       "      <td>S</td>\n",
       "    </tr>\n",
       "    <tr>\n",
       "      <th>1</th>\n",
       "      <td>1</td>\n",
       "      <td>Cumings, Mrs. John Bradley (Florence Briggs Th...</td>\n",
       "      <td>female</td>\n",
       "      <td>38.0</td>\n",
       "      <td>1</td>\n",
       "      <td>0</td>\n",
       "      <td>PC 17599</td>\n",
       "      <td>71.2833</td>\n",
       "      <td>C85</td>\n",
       "      <td>C</td>\n",
       "    </tr>\n",
       "    <tr>\n",
       "      <th>2</th>\n",
       "      <td>3</td>\n",
       "      <td>Heikkinen, Miss. Laina</td>\n",
       "      <td>female</td>\n",
       "      <td>26.0</td>\n",
       "      <td>0</td>\n",
       "      <td>0</td>\n",
       "      <td>STON/O2. 3101282</td>\n",
       "      <td>7.9250</td>\n",
       "      <td>NaN</td>\n",
       "      <td>S</td>\n",
       "    </tr>\n",
       "    <tr>\n",
       "      <th>3</th>\n",
       "      <td>1</td>\n",
       "      <td>Futrelle, Mrs. Jacques Heath (Lily May Peel)</td>\n",
       "      <td>female</td>\n",
       "      <td>35.0</td>\n",
       "      <td>1</td>\n",
       "      <td>0</td>\n",
       "      <td>113803</td>\n",
       "      <td>53.1000</td>\n",
       "      <td>C123</td>\n",
       "      <td>S</td>\n",
       "    </tr>\n",
       "    <tr>\n",
       "      <th>4</th>\n",
       "      <td>3</td>\n",
       "      <td>Allen, Mr. William Henry</td>\n",
       "      <td>male</td>\n",
       "      <td>35.0</td>\n",
       "      <td>0</td>\n",
       "      <td>0</td>\n",
       "      <td>373450</td>\n",
       "      <td>8.0500</td>\n",
       "      <td>NaN</td>\n",
       "      <td>S</td>\n",
       "    </tr>\n",
       "  </tbody>\n",
       "</table>\n",
       "</div>"
      ],
      "text/plain": [
       "   Pclass                                               Name     Sex   Age  \\\n",
       "0       3                            Braund, Mr. Owen Harris    male  22.0   \n",
       "1       1  Cumings, Mrs. John Bradley (Florence Briggs Th...  female  38.0   \n",
       "2       3                             Heikkinen, Miss. Laina  female  26.0   \n",
       "3       1       Futrelle, Mrs. Jacques Heath (Lily May Peel)  female  35.0   \n",
       "4       3                           Allen, Mr. William Henry    male  35.0   \n",
       "\n",
       "   SibSp  Parch            Ticket     Fare Cabin Embarked  \n",
       "0      1      0         A/5 21171   7.2500   NaN        S  \n",
       "1      1      0          PC 17599  71.2833   C85        C  \n",
       "2      0      0  STON/O2. 3101282   7.9250   NaN        S  \n",
       "3      1      0            113803  53.1000  C123        S  \n",
       "4      0      0            373450   8.0500   NaN        S  "
      ]
     },
     "execution_count": 11,
     "metadata": {},
     "output_type": "execute_result"
    }
   ],
   "source": [
    "#只取 int64, float64 兩種數值型欄位, 存於 num_features 中\n",
    "num_features = []\n",
    "for dtype, feature in zip(df_Copy.dtypes, df_Copy.columns):\n",
    "    if dtype == 'float64' or dtype == 'int64':\n",
    "        num_features.append(feature)\n",
    "print(f'{len(num_features)} Numeric Features : {num_features}\\n')\n",
    "\n",
    "# 削減文字型欄位, 只剩數值型欄位\n",
    "df_Copy_num = df_Copy[num_features]\n",
    "df_Copy_1 = df_Copy_num.fillna(-1)\n",
    "df_Copy_1.head()"
   ]
  },
  {
   "cell_type": "code",
   "execution_count": 12,
   "metadata": {},
   "outputs": [
    {
     "name": "stdout",
     "output_type": "stream",
     "text": [
      "\n",
      " ========== \n",
      " 調整類別與數值組合「群聚編碼」 + 羅吉斯迴歸\n",
      " 取船票票號(Ticket), 對乘客年齡(Age)做群聚編碼後cross_val_score:\n",
      " 0.7060727991156779\n"
     ]
    },
    {
     "name": "stderr",
     "output_type": "stream",
     "text": [
      "C:\\Users\\Administrator\\Anaconda3\\lib\\site-packages\\sklearn\\preprocessing\\data.py:334: DataConversionWarning: Data with input dtype int64, float64 were all converted to float64 by MinMaxScaler.\n",
      "  return self.partial_fit(X, y)\n",
      "C:\\Users\\Administrator\\Anaconda3\\lib\\site-packages\\sklearn\\linear_model\\logistic.py:433: FutureWarning: Default solver will be changed to 'lbfgs' in 0.22. Specify a solver to silence this warning.\n",
      "  FutureWarning)\n",
      "C:\\Users\\Administrator\\Anaconda3\\lib\\site-packages\\sklearn\\linear_model\\logistic.py:433: FutureWarning: Default solver will be changed to 'lbfgs' in 0.22. Specify a solver to silence this warning.\n",
      "  FutureWarning)\n",
      "C:\\Users\\Administrator\\Anaconda3\\lib\\site-packages\\sklearn\\linear_model\\logistic.py:433: FutureWarning: Default solver will be changed to 'lbfgs' in 0.22. Specify a solver to silence this warning.\n",
      "  FutureWarning)\n",
      "C:\\Users\\Administrator\\Anaconda3\\lib\\site-packages\\sklearn\\linear_model\\logistic.py:433: FutureWarning: Default solver will be changed to 'lbfgs' in 0.22. Specify a solver to silence this warning.\n",
      "  FutureWarning)\n",
      "C:\\Users\\Administrator\\Anaconda3\\lib\\site-packages\\sklearn\\linear_model\\logistic.py:433: FutureWarning: Default solver will be changed to 'lbfgs' in 0.22. Specify a solver to silence this warning.\n",
      "  FutureWarning)\n"
     ]
    }
   ],
   "source": [
    "# 新特徵 + 邏輯斯迴歸\n",
    "df_CopyMinMax = MinMaxScaler().fit_transform(df_Copy_1)\n",
    "train_num = train_Y.shape[0]\n",
    "train_X = df_CopyMinMax[:train_num] \n",
    "estimator = LogisticRegression()\n",
    "\n",
    "print(f'\\n ========== \\n 調整類別與數值組合「群聚編碼」 + 羅吉斯迴歸')\n",
    "print(f' 取船票票號(Ticket), 對乘客年齡(Age)做群聚編碼後cross_val_score:\\n', cross_val_score(estimator, train_X, train_Y, cv=5).mean())\n"
   ]
  },
  {
   "cell_type": "code",
   "execution_count": null,
   "metadata": {},
   "outputs": [],
   "source": []
  },
  {
   "cell_type": "markdown",
   "metadata": {},
   "source": [
    "#### Day_025_DayTime_Features_日週期本例先跳過，見PART II\n",
    "#### Day_026_特徵組合 - 數值與數值組合，見PART II\n",
    "#### Day_028_特徵選擇: 有 三大類 方法\n",
    "   - 過濾法 (Filter) : 選定統計數值與設定門檻，刪除低於門檻的特徵  《相關係數過濾法》\n",
    "   - 包裝法 (Wrapper) : 根據目標函數，逐步加入特徵或刪除特徵\n",
    "   - 嵌入法 (Embedded) : 使用機器學習模型，根據擬合後的係數，刪除係數低於門檻的特徵 《L1(Lasso)嵌入法，GDBT(梯度提升樹)嵌入法》"
   ]
  },
  {
   "cell_type": "markdown",
   "metadata": {},
   "source": [
    "######################\n",
    "## 特徵選擇\n",
    "######################"
   ]
  },
  {
   "cell_type": "markdown",
   "metadata": {},
   "source": [
    "一、過濾法 (Filter) : 選定統計數值與設定門檻，刪除低於門檻的特徵 《相關係數過濾法》"
   ]
  },
  {
   "cell_type": "code",
   "execution_count": 12,
   "metadata": {},
   "outputs": [
    {
     "data": {
      "image/png": "[encoded data removed]",
      "text/plain": [
       "<Figure size 432x288 with 2 Axes>"
      ]
     },
     "metadata": {
      "needs_background": "light"
     },
     "output_type": "display_data"
    }
   ],
   "source": [
    "#Day_028_Feature_Selection_Ans\n",
    "data_path = 'data/'\n",
    "df_train = pd.read_csv(data_path + 'titanic_train.csv')\n",
    "df_train_Copy=copy.deepcopy(df_train)\n",
    "\n",
    "df_train_Copy = df_train_Copy.drop(['PassengerId'] , axis=1)\n",
    "# 計算df整體相關係數, 並繪製成熱圖\n",
    "import seaborn as sns\n",
    "import matplotlib.pyplot as plt\n",
    "corr = df_train_Copy.corr()\n",
    "sns.heatmap(corr)\n",
    "plt.show()"
   ]
  },
  {
   "cell_type": "code",
   "execution_count": 13,
   "metadata": {},
   "outputs": [
    {
     "name": "stdout",
     "output_type": "stream",
     "text": [
      "5 Numeric Features : ['Pclass', 'Age', 'SibSp', 'Parch', 'Fare']\n",
      "\n"
     ]
    },
    {
     "data": {
      "text/html": [
       "<div>\n",
       "<style scoped>\n",
       "    .dataframe tbody tr th:only-of-type {\n",
       "        vertical-align: middle;\n",
       "    }\n",
       "\n",
       "    .dataframe tbody tr th {\n",
       "        vertical-align: top;\n",
       "    }\n",
       "\n",
       "    .dataframe thead th {\n",
       "        text-align: right;\n",
       "    }\n",
       "</style>\n",
       "<table border=\"1\" class=\"dataframe\">\n",
       "  <thead>\n",
       "    <tr style=\"text-align: right;\">\n",
       "      <th></th>\n",
       "      <th>Pclass</th>\n",
       "      <th>Age</th>\n",
       "      <th>SibSp</th>\n",
       "      <th>Parch</th>\n",
       "      <th>Fare</th>\n",
       "    </tr>\n",
       "  </thead>\n",
       "  <tbody>\n",
       "    <tr>\n",
       "      <th>0</th>\n",
       "      <td>3</td>\n",
       "      <td>22.0</td>\n",
       "      <td>1</td>\n",
       "      <td>0</td>\n",
       "      <td>7.2500</td>\n",
       "    </tr>\n",
       "    <tr>\n",
       "      <th>1</th>\n",
       "      <td>1</td>\n",
       "      <td>38.0</td>\n",
       "      <td>1</td>\n",
       "      <td>0</td>\n",
       "      <td>71.2833</td>\n",
       "    </tr>\n",
       "    <tr>\n",
       "      <th>2</th>\n",
       "      <td>3</td>\n",
       "      <td>26.0</td>\n",
       "      <td>0</td>\n",
       "      <td>0</td>\n",
       "      <td>7.9250</td>\n",
       "    </tr>\n",
       "    <tr>\n",
       "      <th>3</th>\n",
       "      <td>1</td>\n",
       "      <td>35.0</td>\n",
       "      <td>1</td>\n",
       "      <td>0</td>\n",
       "      <td>53.1000</td>\n",
       "    </tr>\n",
       "    <tr>\n",
       "      <th>4</th>\n",
       "      <td>3</td>\n",
       "      <td>35.0</td>\n",
       "      <td>0</td>\n",
       "      <td>0</td>\n",
       "      <td>8.0500</td>\n",
       "    </tr>\n",
       "  </tbody>\n",
       "</table>\n",
       "</div>"
      ],
      "text/plain": [
       "   Pclass   Age  SibSp  Parch     Fare\n",
       "0       3  22.0      1      0   7.2500\n",
       "1       1  38.0      1      0  71.2833\n",
       "2       3  26.0      0      0   7.9250\n",
       "3       1  35.0      1      0  53.1000\n",
       "4       3  35.0      0      0   8.0500"
      ]
     },
     "execution_count": 13,
     "metadata": {},
     "output_type": "execute_result"
    }
   ],
   "source": [
    "# 記得刪除 Y\n",
    "df_train_Copy = df_train_Copy.drop(['Survived'] , axis=1)\n",
    "df_Copy2 = pd.concat([df_train_Copy,df_test])   #前半段為訓練資料, 後半段為測試資料, 合併一起進行資料整理\n",
    "\n",
    "#這邊沿用 Day_027 的檔案\n",
    "#只取 int64, float64 兩種數值型欄位, 存於 num_features 中\n",
    "num_features = []\n",
    "for dtype, feature in zip(df_Copy2.dtypes, df_Copy2.columns):\n",
    "    if dtype == 'float64' or dtype == 'int64':\n",
    "        num_features.append(feature)\n",
    "print(f'{len(num_features)} Numeric Features : {num_features}\\n')\n",
    "\n",
    "# 削減文字型欄位, 只剩數值型欄位\n",
    "df_Copy2 = df_Copy2[num_features]\n",
    "df_Copy2 = df_Copy2.fillna(-1)\n",
    "df_Copy2.head()"
   ]
  },
  {
   "cell_type": "markdown",
   "metadata": {},
   "source": [
    "* 鐵達尼生存率預測中，試著變更兩種以上的相關係數門檻值，觀察預測能力是否提升?\n",
    "> 由下述不同門檻可以發現, 相關係數有時候確實能成功提升準確度, 但篩選過頭會有反效果  \n",
    "門檻的決定沒有一定的準則, 因此這個方法並不那麼好用"
   ]
  },
  {
   "cell_type": "code",
   "execution_count": 14,
   "metadata": {
    "scrolled": true
   },
   "outputs": [
    {
     "name": "stdout",
     "output_type": "stream",
     "text": [
      "\n",
      " ========== \n",
      " 原始特徵 + 邏輯斯迴歸\n",
      " cross_val_score:\n",
      " 0.6971346062663598\n",
      "\n",
      " ========== \n",
      " 0.05特徵 + 邏輯斯迴歸\n",
      " 篩選後留下的變數：  ['Pclass', 'Age', 'Parch', 'Fare']\n",
      " 篩選相關係數大於 0.05 或小於 -0.05 特徵的cross_val_score:\n",
      " 0.6993817972775959\n",
      "\n",
      " ========== \n",
      " 0.1特徵 + 邏輯斯迴歸\n",
      " 篩選後留下的變數：  ['Pclass', 'Fare']\n",
      " 篩選相關係數大於 0.1 或小於 -0.1 特徵的cross_val_score:\n",
      " 0.6791567235397566\n"
     ]
    },
    {
     "name": "stderr",
     "output_type": "stream",
     "text": [
      "C:\\Users\\Administrator\\Anaconda3\\lib\\site-packages\\sklearn\\preprocessing\\data.py:334: DataConversionWarning: Data with input dtype int64, float64 were all converted to float64 by MinMaxScaler.\n",
      "  return self.partial_fit(X, y)\n",
      "C:\\Users\\Administrator\\Anaconda3\\lib\\site-packages\\sklearn\\linear_model\\logistic.py:433: FutureWarning: Default solver will be changed to 'lbfgs' in 0.22. Specify a solver to silence this warning.\n",
      "  FutureWarning)\n",
      "C:\\Users\\Administrator\\Anaconda3\\lib\\site-packages\\sklearn\\linear_model\\logistic.py:433: FutureWarning: Default solver will be changed to 'lbfgs' in 0.22. Specify a solver to silence this warning.\n",
      "  FutureWarning)\n",
      "C:\\Users\\Administrator\\Anaconda3\\lib\\site-packages\\sklearn\\linear_model\\logistic.py:433: FutureWarning: Default solver will be changed to 'lbfgs' in 0.22. Specify a solver to silence this warning.\n",
      "  FutureWarning)\n",
      "C:\\Users\\Administrator\\Anaconda3\\lib\\site-packages\\sklearn\\linear_model\\logistic.py:433: FutureWarning: Default solver will be changed to 'lbfgs' in 0.22. Specify a solver to silence this warning.\n",
      "  FutureWarning)\n",
      "C:\\Users\\Administrator\\Anaconda3\\lib\\site-packages\\sklearn\\linear_model\\logistic.py:433: FutureWarning: Default solver will be changed to 'lbfgs' in 0.22. Specify a solver to silence this warning.\n",
      "  FutureWarning)\n",
      "C:\\Users\\Administrator\\Anaconda3\\lib\\site-packages\\sklearn\\preprocessing\\data.py:334: DataConversionWarning: Data with input dtype int64, float64 were all converted to float64 by MinMaxScaler.\n",
      "  return self.partial_fit(X, y)\n",
      "C:\\Users\\Administrator\\Anaconda3\\lib\\site-packages\\sklearn\\linear_model\\logistic.py:433: FutureWarning: Default solver will be changed to 'lbfgs' in 0.22. Specify a solver to silence this warning.\n",
      "  FutureWarning)\n",
      "C:\\Users\\Administrator\\Anaconda3\\lib\\site-packages\\sklearn\\linear_model\\logistic.py:433: FutureWarning: Default solver will be changed to 'lbfgs' in 0.22. Specify a solver to silence this warning.\n",
      "  FutureWarning)\n",
      "C:\\Users\\Administrator\\Anaconda3\\lib\\site-packages\\sklearn\\linear_model\\logistic.py:433: FutureWarning: Default solver will be changed to 'lbfgs' in 0.22. Specify a solver to silence this warning.\n",
      "  FutureWarning)\n",
      "C:\\Users\\Administrator\\Anaconda3\\lib\\site-packages\\sklearn\\linear_model\\logistic.py:433: FutureWarning: Default solver will be changed to 'lbfgs' in 0.22. Specify a solver to silence this warning.\n",
      "  FutureWarning)\n",
      "C:\\Users\\Administrator\\Anaconda3\\lib\\site-packages\\sklearn\\linear_model\\logistic.py:433: FutureWarning: Default solver will be changed to 'lbfgs' in 0.22. Specify a solver to silence this warning.\n",
      "  FutureWarning)\n",
      "C:\\Users\\Administrator\\Anaconda3\\lib\\site-packages\\sklearn\\preprocessing\\data.py:334: DataConversionWarning: Data with input dtype int64, float64 were all converted to float64 by MinMaxScaler.\n",
      "  return self.partial_fit(X, y)\n",
      "C:\\Users\\Administrator\\Anaconda3\\lib\\site-packages\\sklearn\\linear_model\\logistic.py:433: FutureWarning: Default solver will be changed to 'lbfgs' in 0.22. Specify a solver to silence this warning.\n",
      "  FutureWarning)\n",
      "C:\\Users\\Administrator\\Anaconda3\\lib\\site-packages\\sklearn\\linear_model\\logistic.py:433: FutureWarning: Default solver will be changed to 'lbfgs' in 0.22. Specify a solver to silence this warning.\n",
      "  FutureWarning)\n",
      "C:\\Users\\Administrator\\Anaconda3\\lib\\site-packages\\sklearn\\linear_model\\logistic.py:433: FutureWarning: Default solver will be changed to 'lbfgs' in 0.22. Specify a solver to silence this warning.\n",
      "  FutureWarning)\n",
      "C:\\Users\\Administrator\\Anaconda3\\lib\\site-packages\\sklearn\\linear_model\\logistic.py:433: FutureWarning: Default solver will be changed to 'lbfgs' in 0.22. Specify a solver to silence this warning.\n",
      "  FutureWarning)\n",
      "C:\\Users\\Administrator\\Anaconda3\\lib\\site-packages\\sklearn\\linear_model\\logistic.py:433: FutureWarning: Default solver will be changed to 'lbfgs' in 0.22. Specify a solver to silence this warning.\n",
      "  FutureWarning)\n"
     ]
    }
   ],
   "source": [
    "# 原始特徵 + 邏輯斯迴歸\n",
    "print(f'\\n ========== \\n 原始特徵 + 邏輯斯迴歸')\n",
    "df_CopyMinMax2 = MinMaxScaler().fit_transform(df_Copy2)\n",
    "train_num = train_Y.shape[0]\n",
    "train_X = df_CopyMinMax2[:train_num] \n",
    "estimator = LogisticRegression()\n",
    "print(f' cross_val_score:\\n', cross_val_score(estimator, train_X, train_Y, cv=5).mean())\n",
    "\n",
    "\n",
    "# 篩選相關係數大於 0.05 或小於 -0.05 的特徵\n",
    "print(f'\\n ========== \\n 0.05特徵 + 邏輯斯迴歸')\n",
    "high_list = list(corr[(corr['Survived']>0.05) | (corr['Survived']<-0.05)].index)\n",
    "high_list.pop(0)\n",
    "print(' 篩選後留下的變數： ', high_list)\n",
    "# 0.05特徵 + 邏輯斯迴歸\n",
    "df_CopyMinMax2 = MinMaxScaler().fit_transform(df_Copy2[high_list])\n",
    "train_num = train_Y.shape[0]\n",
    "train_X = df_CopyMinMax2[:train_num] \n",
    "estimator = LogisticRegression()\n",
    "print(f' 篩選相關係數大於 0.05 或小於 -0.05 特徵的cross_val_score:\\n', cross_val_score(estimator, train_X, train_Y, cv=5).mean())\n",
    "\n",
    "\n",
    "# 篩選相關係數大於 0.1 或小於 -0.1 的特徵\n",
    "print(f'\\n ========== \\n 0.1特徵 + 邏輯斯迴歸')\n",
    "high_list = list(corr[(corr['Survived']>0.1) | (corr['Survived']<-0.1)].index)\n",
    "high_list.pop(0)\n",
    "print(' 篩選後留下的變數： ', high_list)\n",
    "# 0.1特徵 + 邏輯斯迴歸\n",
    "df_CopyMinMax2 = MinMaxScaler().fit_transform(df_Copy2[high_list])\n",
    "train_num = train_Y.shape[0]\n",
    "train_X = df_CopyMinMax2[:train_num] \n",
    "estimator = LogisticRegression()\n",
    "print(f' 篩選相關係數大於 0.1 或小於 -0.1 特徵的cross_val_score:\\n', cross_val_score(estimator, train_X, train_Y, cv=5).mean())\n"
   ]
  },
  {
   "cell_type": "markdown",
   "metadata": {},
   "source": [
    "二、包裝法 (Wrapper) : 根據目標函數，逐步加入特徵或刪除特徵\n",
    "- R筆記 – (18) Subsets & Shrinkage Regression (Stepwise & Lasso)\n",
    "https://rpubs.com/skydome20/R-Note18-Subsets_Shrinkage_Methods\n",
    "\n",
    "三、嵌入法 (Embedded) : 使用機器學習模型，根據擬合後的係數，刪除係數低於門檻的特徵 《L1(Lasso)嵌入法，GDBT(梯度提升樹)嵌入法》"
   ]
  },
  {
   "cell_type": "markdown",
   "metadata": {},
   "source": [
    "* 承上，使用 L1 Embedding 做特徵選擇(自訂門檻)，觀察預測能力是否提升?\n",
    "> 範例中, 效果並不如顯著  \n",
    "而且與相關係數法類似, L1 Embedding 也需要調整 alpha 值, 且沒有一定法則  \n",
    "所以也並非好用的特徵篩選方式"
   ]
  },
  {
   "cell_type": "code",
   "execution_count": 15,
   "metadata": {},
   "outputs": [
    {
     "name": "stdout",
     "output_type": "stream",
     "text": [
      " 根據目標函數，逐步加入特徵或刪除特徵L1_Reg.coef_ [-0.39123864 -0.13640466 -0.          0.          0.        ]\n",
      " 篩選後留下的變數：  ['Pclass', 'Age']\n",
      " L1_Embedding 特徵 + 線性迴歸的cross_val_score:\n",
      " 0.6847938159868103\n"
     ]
    },
    {
     "name": "stderr",
     "output_type": "stream",
     "text": [
      "C:\\Users\\Administrator\\Anaconda3\\lib\\site-packages\\sklearn\\preprocessing\\data.py:334: DataConversionWarning: Data with input dtype int64, float64 were all converted to float64 by MinMaxScaler.\n",
      "  return self.partial_fit(X, y)\n",
      "C:\\Users\\Administrator\\Anaconda3\\lib\\site-packages\\sklearn\\preprocessing\\data.py:334: DataConversionWarning: Data with input dtype int64, float64 were all converted to float64 by MinMaxScaler.\n",
      "  return self.partial_fit(X, y)\n",
      "C:\\Users\\Administrator\\Anaconda3\\lib\\site-packages\\sklearn\\linear_model\\logistic.py:433: FutureWarning: Default solver will be changed to 'lbfgs' in 0.22. Specify a solver to silence this warning.\n",
      "  FutureWarning)\n",
      "C:\\Users\\Administrator\\Anaconda3\\lib\\site-packages\\sklearn\\linear_model\\logistic.py:433: FutureWarning: Default solver will be changed to 'lbfgs' in 0.22. Specify a solver to silence this warning.\n",
      "  FutureWarning)\n",
      "C:\\Users\\Administrator\\Anaconda3\\lib\\site-packages\\sklearn\\linear_model\\logistic.py:433: FutureWarning: Default solver will be changed to 'lbfgs' in 0.22. Specify a solver to silence this warning.\n",
      "  FutureWarning)\n",
      "C:\\Users\\Administrator\\Anaconda3\\lib\\site-packages\\sklearn\\linear_model\\logistic.py:433: FutureWarning: Default solver will be changed to 'lbfgs' in 0.22. Specify a solver to silence this warning.\n",
      "  FutureWarning)\n",
      "C:\\Users\\Administrator\\Anaconda3\\lib\\site-packages\\sklearn\\linear_model\\logistic.py:433: FutureWarning: Default solver will be changed to 'lbfgs' in 0.22. Specify a solver to silence this warning.\n",
      "  FutureWarning)\n"
     ]
    }
   ],
   "source": [
    "from sklearn.linear_model import Lasso\n",
    "L1_Reg = Lasso(alpha=0.005)\n",
    "df_CopyMinMax2 = MinMaxScaler().fit_transform(df_Copy2)\n",
    "train_num = train_Y.shape[0]\n",
    "train_X = df_CopyMinMax2[:train_num] \n",
    "L1_Reg.fit(train_X, train_Y)\n",
    "print(f' 根據目標函數，逐步加入特徵或刪除特徵L1_Reg.coef_', L1_Reg.coef_)\n",
    "\n",
    "from itertools import compress\n",
    "L1_mask = list((L1_Reg.coef_>0) | (L1_Reg.coef_<0))\n",
    "L1_list = list(compress(list(df_Copy2), list(L1_mask)))\n",
    "print(' 篩選後留下的變數： ', L1_list)\n",
    "\n",
    "# L1_Embedding 特徵 + 線性迴歸\n",
    "df_CopyMinMax2 = MinMaxScaler().fit_transform(df_Copy2[L1_list])\n",
    "train_num = train_Y.shape[0]\n",
    "train_X = df_CopyMinMax2[:train_num] \n",
    "estimator = LogisticRegression()\n",
    "print(f' L1_Embedding 特徵 + 線性迴歸的cross_val_score:\\n', cross_val_score(estimator, train_X, train_Y, cv=5).mean())\n"
   ]
  },
  {
   "cell_type": "markdown",
   "metadata": {},
   "source": [
    "嵌入法 (Embedded) : 使用機器學習模型，根據擬合後的係數，刪除係數低於門檻的特徵 《GDBT(梯度提升樹)嵌入法》"
   ]
  },
  {
   "cell_type": "code",
   "execution_count": 16,
   "metadata": {},
   "outputs": [
    {
     "name": "stderr",
     "output_type": "stream",
     "text": [
      "C:\\Users\\Administrator\\Anaconda3\\lib\\site-packages\\sklearn\\utils\\validation.py:595: DataConversionWarning: Data with input dtype int64 was converted to float64 by MinMaxScaler.\n",
      "  warnings.warn(msg, DataConversionWarning)\n",
      "C:\\Users\\Administrator\\Anaconda3\\lib\\site-packages\\sklearn\\utils\\validation.py:595: DataConversionWarning: Data with input dtype int64 was converted to float64 by MinMaxScaler.\n",
      "  warnings.warn(msg, DataConversionWarning)\n",
      "C:\\Users\\Administrator\\Anaconda3\\lib\\site-packages\\sklearn\\utils\\validation.py:595: DataConversionWarning: Data with input dtype int64 was converted to float64 by MinMaxScaler.\n",
      "  warnings.warn(msg, DataConversionWarning)\n",
      "C:\\Users\\Administrator\\Anaconda3\\lib\\site-packages\\sklearn\\utils\\validation.py:595: DataConversionWarning: Data with input dtype int64 was converted to float64 by MinMaxScaler.\n",
      "  warnings.warn(msg, DataConversionWarning)\n",
      "C:\\Users\\Administrator\\Anaconda3\\lib\\site-packages\\sklearn\\utils\\validation.py:595: DataConversionWarning: Data with input dtype int64 was converted to float64 by MinMaxScaler.\n",
      "  warnings.warn(msg, DataConversionWarning)\n",
      "C:\\Users\\Administrator\\Anaconda3\\lib\\site-packages\\sklearn\\utils\\validation.py:595: DataConversionWarning: Data with input dtype int64 was converted to float64 by MinMaxScaler.\n",
      "  warnings.warn(msg, DataConversionWarning)\n",
      "C:\\Users\\Administrator\\Anaconda3\\lib\\site-packages\\sklearn\\utils\\validation.py:595: DataConversionWarning: Data with input dtype int64 was converted to float64 by MinMaxScaler.\n",
      "  warnings.warn(msg, DataConversionWarning)\n",
      "C:\\Users\\Administrator\\Anaconda3\\lib\\site-packages\\sklearn\\utils\\validation.py:595: DataConversionWarning: Data with input dtype int64 was converted to float64 by MinMaxScaler.\n",
      "  warnings.warn(msg, DataConversionWarning)\n"
     ]
    },
    {
     "data": {
      "text/html": [
       "<div>\n",
       "<style scoped>\n",
       "    .dataframe tbody tr th:only-of-type {\n",
       "        vertical-align: middle;\n",
       "    }\n",
       "\n",
       "    .dataframe tbody tr th {\n",
       "        vertical-align: top;\n",
       "    }\n",
       "\n",
       "    .dataframe thead th {\n",
       "        text-align: right;\n",
       "    }\n",
       "</style>\n",
       "<table border=\"1\" class=\"dataframe\">\n",
       "  <thead>\n",
       "    <tr style=\"text-align: right;\">\n",
       "      <th></th>\n",
       "      <th>Pclass</th>\n",
       "      <th>Name</th>\n",
       "      <th>Sex</th>\n",
       "      <th>Age</th>\n",
       "      <th>SibSp</th>\n",
       "      <th>Parch</th>\n",
       "      <th>Ticket</th>\n",
       "      <th>Fare</th>\n",
       "      <th>Cabin</th>\n",
       "      <th>Embarked</th>\n",
       "    </tr>\n",
       "  </thead>\n",
       "  <tbody>\n",
       "    <tr>\n",
       "      <th>0</th>\n",
       "      <td>1.0</td>\n",
       "      <td>0.118683</td>\n",
       "      <td>1.0</td>\n",
       "      <td>0.283951</td>\n",
       "      <td>0.125</td>\n",
       "      <td>0.0</td>\n",
       "      <td>0.775862</td>\n",
       "      <td>0.016072</td>\n",
       "      <td>0.000000</td>\n",
       "      <td>1.000000</td>\n",
       "    </tr>\n",
       "    <tr>\n",
       "      <th>1</th>\n",
       "      <td>0.0</td>\n",
       "      <td>0.218989</td>\n",
       "      <td>0.0</td>\n",
       "      <td>0.481481</td>\n",
       "      <td>0.125</td>\n",
       "      <td>0.0</td>\n",
       "      <td>0.879310</td>\n",
       "      <td>0.140813</td>\n",
       "      <td>0.575269</td>\n",
       "      <td>0.333333</td>\n",
       "    </tr>\n",
       "    <tr>\n",
       "      <th>2</th>\n",
       "      <td>1.0</td>\n",
       "      <td>0.400459</td>\n",
       "      <td>0.0</td>\n",
       "      <td>0.333333</td>\n",
       "      <td>0.000</td>\n",
       "      <td>0.0</td>\n",
       "      <td>0.984914</td>\n",
       "      <td>0.017387</td>\n",
       "      <td>0.000000</td>\n",
       "      <td>1.000000</td>\n",
       "    </tr>\n",
       "    <tr>\n",
       "      <th>3</th>\n",
       "      <td>0.0</td>\n",
       "      <td>0.323124</td>\n",
       "      <td>0.0</td>\n",
       "      <td>0.444444</td>\n",
       "      <td>0.125</td>\n",
       "      <td>0.0</td>\n",
       "      <td>0.070043</td>\n",
       "      <td>0.105390</td>\n",
       "      <td>0.381720</td>\n",
       "      <td>1.000000</td>\n",
       "    </tr>\n",
       "    <tr>\n",
       "      <th>4</th>\n",
       "      <td>1.0</td>\n",
       "      <td>0.016845</td>\n",
       "      <td>1.0</td>\n",
       "      <td>0.444444</td>\n",
       "      <td>0.000</td>\n",
       "      <td>0.0</td>\n",
       "      <td>0.699353</td>\n",
       "      <td>0.017630</td>\n",
       "      <td>0.000000</td>\n",
       "      <td>1.000000</td>\n",
       "    </tr>\n",
       "  </tbody>\n",
       "</table>\n",
       "</div>"
      ],
      "text/plain": [
       "   Pclass      Name  Sex       Age  SibSp  Parch    Ticket      Fare  \\\n",
       "0     1.0  0.118683  1.0  0.283951  0.125    0.0  0.775862  0.016072   \n",
       "1     0.0  0.218989  0.0  0.481481  0.125    0.0  0.879310  0.140813   \n",
       "2     1.0  0.400459  0.0  0.333333  0.000    0.0  0.984914  0.017387   \n",
       "3     0.0  0.323124  0.0  0.444444  0.125    0.0  0.070043  0.105390   \n",
       "4     1.0  0.016845  1.0  0.444444  0.000    0.0  0.699353  0.017630   \n",
       "\n",
       "      Cabin  Embarked  \n",
       "0  0.000000  1.000000  \n",
       "1  0.575269  0.333333  \n",
       "2  0.000000  1.000000  \n",
       "3  0.381720  1.000000  \n",
       "4  0.000000  1.000000  "
      ]
     },
     "execution_count": 16,
     "metadata": {},
     "output_type": "execute_result"
    }
   ],
   "source": [
    "#Day_029_Feature_Importance\n",
    "df_Copy3=copy.deepcopy(df)\n",
    "\n",
    "# 因為需要把類別型與數值型特徵都加入, 故使用最簡版的特徵工程\n",
    "for c in df_Copy3.columns:\n",
    "    df_Copy3[c] = df_Copy3[c].fillna(-1)\n",
    "    if df_Copy3[c].dtype == 'object':\n",
    "        df_Copy3[c] = LabelEncoder().fit_transform(list(df_Copy3[c].values))\n",
    "    df_Copy3[c] = MinMaxScaler().fit_transform(df_Copy3[c].values.reshape(-1, 1))\n",
    "df_Copy3.head()"
   ]
  },
  {
   "cell_type": "code",
   "execution_count": 17,
   "metadata": {},
   "outputs": [
    {
     "data": {
      "text/plain": [
       "Sex         0.444196\n",
       "Pclass      0.111908\n",
       "Ticket      0.098053\n",
       "Fare        0.088366\n",
       "Name        0.080586\n",
       "Age         0.074414\n",
       "Cabin       0.070990\n",
       "Embarked    0.012262\n",
       "Parch       0.011519\n",
       "SibSp       0.007706\n",
       "dtype: float64"
      ]
     },
     "execution_count": 17,
     "metadata": {},
     "output_type": "execute_result"
    }
   ],
   "source": [
    "from sklearn.ensemble import GradientBoostingClassifier\n",
    "# 梯度提升樹擬合後, 將結果依照重要性由高到低排序 (note : D27作業中'Ticket'是第一名特徵, 'Age'是數值特徵中排名最高者)\n",
    "train_num = train_Y.shape[0]\n",
    "train_X = df_Copy3[:train_num] \n",
    "estimator = GradientBoostingClassifier()\n",
    "estimator.fit(df_Copy3[:train_num] .values, train_Y)\n",
    "feats = pd.Series(data=estimator.feature_importances_, index=df.columns)\n",
    "feats = feats.sort_values(ascending=False)\n",
    "feats"
   ]
  },
  {
   "cell_type": "markdown",
   "metadata": {},
   "source": [
    "##用梯度提升機對鐵達尼生存預測做訓練\n",
    "* 將特徵重要性較低的一半特徵刪除後，再做生存率預估，正確率是否有變化?\n",
    "> 雖然範例中, 看似高重要性特徵的預估正確率較差,  \n",
    "但這是只使用一半特徵的結果, 表示高重要特徵的資訊密度是高的, \n",
    "使用較少特徵, 泛化能力(對外部資料預測力)也會提升,  \n",
    "因此只要不要刪到一半那麼多, 仍可能是適當的特徵選擇方式  \n",
    "另一個原因也可能是這邊的模型(GradientBoostingClassifier)並未經過調參, 所以特徵重要性排名較不準確導致"
   ]
  },
  {
   "cell_type": "code",
   "execution_count": 18,
   "metadata": {},
   "outputs": [
    {
     "name": "stdout",
     "output_type": "stream",
     "text": [
      " 原始特徵 + 梯度提升樹的cross_val_score:\n",
      " 0.8238381835223724\n",
      " 高重要性特徵: ['Sex', 'Pclass', 'Ticket', 'Fare', 'Name']\n",
      " 高重要性特徵 + 梯度提升樹 + 梯度提升樹的cross_val_score:\n",
      " 0.8125895324717789\n"
     ]
    }
   ],
   "source": [
    "# 原始特徵 + 梯度提升樹\n",
    "train_num = train_Y.shape[0]\n",
    "train_X = df_Copy3[:train_num] \n",
    "estimator = GradientBoostingClassifier()\n",
    "print(f' 原始特徵 + 梯度提升樹的cross_val_score:\\n', cross_val_score(estimator, train_X, train_Y, cv=5).mean())\n",
    "\n",
    "# 高重要性特徵 + 梯度提升樹 \n",
    "high_feature = list(feats[:5].index)\n",
    "print(f' 高重要性特徵:', high_feature)\n",
    "train_num = train_Y.shape[0]\n",
    "train_X = df_Copy3[high_feature][:train_num] \n",
    "estimator = GradientBoostingClassifier()\n",
    "print(f' 高重要性特徵 + 梯度提升樹 + 梯度提升樹的cross_val_score:\\n', cross_val_score(estimator, train_X, train_Y, cv=5).mean())\n"
   ]
  },
  {
   "cell_type": "markdown",
   "metadata": {},
   "source": [
    "#### D30 葉編碼- 只有分類問題比較適合葉編碼"
   ]
  },
  {
   "cell_type": "code",
   "execution_count": 23,
   "metadata": {},
   "outputs": [
    {
     "name": "stdout",
     "output_type": "stream",
     "text": [
      "   Pclass      Name  Sex       Age  SibSp  Parch    Ticket      Fare  \\\n",
      "0     1.0  0.118683  1.0  0.283951  0.125    0.0  0.775862  0.016072   \n",
      "1     0.0  0.218989  0.0  0.481481  0.125    0.0  0.879310  0.140813   \n",
      "2     1.0  0.400459  0.0  0.333333  0.000    0.0  0.984914  0.017387   \n",
      "3     0.0  0.323124  0.0  0.444444  0.125    0.0  0.070043  0.105390   \n",
      "4     1.0  0.016845  1.0  0.444444  0.000    0.0  0.699353  0.017630   \n",
      "\n",
      "      Cabin  Embarked  \n",
      "0  0.000000  1.000000  \n",
      "1  0.575269  0.333333  \n",
      "2  0.000000  1.000000  \n",
      "3  0.381720  1.000000  \n",
      "4  0.000000  1.000000  \n"
     ]
    },
    {
     "name": "stderr",
     "output_type": "stream",
     "text": [
      "C:\\Users\\Administrator\\Anaconda3\\lib\\site-packages\\sklearn\\utils\\validation.py:595: DataConversionWarning: Data with input dtype int64 was converted to float64 by MinMaxScaler.\n",
      "  warnings.warn(msg, DataConversionWarning)\n",
      "C:\\Users\\Administrator\\Anaconda3\\lib\\site-packages\\sklearn\\utils\\validation.py:595: DataConversionWarning: Data with input dtype int64 was converted to float64 by MinMaxScaler.\n",
      "  warnings.warn(msg, DataConversionWarning)\n",
      "C:\\Users\\Administrator\\Anaconda3\\lib\\site-packages\\sklearn\\utils\\validation.py:595: DataConversionWarning: Data with input dtype int64 was converted to float64 by MinMaxScaler.\n",
      "  warnings.warn(msg, DataConversionWarning)\n",
      "C:\\Users\\Administrator\\Anaconda3\\lib\\site-packages\\sklearn\\utils\\validation.py:595: DataConversionWarning: Data with input dtype int64 was converted to float64 by MinMaxScaler.\n",
      "  warnings.warn(msg, DataConversionWarning)\n",
      "C:\\Users\\Administrator\\Anaconda3\\lib\\site-packages\\sklearn\\utils\\validation.py:595: DataConversionWarning: Data with input dtype int64 was converted to float64 by MinMaxScaler.\n",
      "  warnings.warn(msg, DataConversionWarning)\n",
      "C:\\Users\\Administrator\\Anaconda3\\lib\\site-packages\\sklearn\\utils\\validation.py:595: DataConversionWarning: Data with input dtype int64 was converted to float64 by MinMaxScaler.\n",
      "  warnings.warn(msg, DataConversionWarning)\n",
      "C:\\Users\\Administrator\\Anaconda3\\lib\\site-packages\\sklearn\\utils\\validation.py:595: DataConversionWarning: Data with input dtype int64 was converted to float64 by MinMaxScaler.\n",
      "  warnings.warn(msg, DataConversionWarning)\n",
      "C:\\Users\\Administrator\\Anaconda3\\lib\\site-packages\\sklearn\\utils\\validation.py:595: DataConversionWarning: Data with input dtype int64 was converted to float64 by MinMaxScaler.\n",
      "  warnings.warn(msg, DataConversionWarning)\n"
     ]
    }
   ],
   "source": [
    "# 做完特徵工程前的所有準備\n",
    "import pandas as pd\n",
    "import numpy as np\n",
    "import copy\n",
    "from sklearn.preprocessing import LabelEncoder, MinMaxScaler\n",
    "from sklearn.linear_model import LogisticRegression\n",
    "from sklearn.ensemble import GradientBoostingClassifier\n",
    "from sklearn.ensemble import RandomForestClassifier\n",
    "# 因為擬合(fit)與編碼(transform)需要分開, 因此不使用.get_dummy, 而採用 sklearn 的 OneHotEncoder\n",
    "from sklearn.preprocessing import OneHotEncoder\n",
    "from sklearn.model_selection import train_test_split\n",
    "from sklearn.metrics import roc_curve\n",
    "\n",
    "df_Copy4=copy.deepcopy(df)\n",
    "# 因為需要把類別型與數值型特徵都加入, 故使用最簡版的特徵工程\n",
    "for c in df_Copy4.columns:\n",
    "    df_Copy4[c] = df_Copy4[c].fillna(-1)\n",
    "    if df_Copy4[c].dtype == 'object':\n",
    "        df_Copy4[c] = LabelEncoder().fit_transform(list(df_Copy4[c].values))\n",
    "    df_Copy4[c] = MinMaxScaler().fit_transform(df_Copy4[c].values.reshape(-1, 1))\n",
    "print(df_Copy4.head())\n",
    "\n",
    "\n",
    "train_num = train_Y.shape[0]\n",
    "train_X = df_Copy4[:train_num].values\n",
    "# 因為訓練邏輯斯迴歸時也要資料, 因此將訓練及切成三部分 train / val / test, 採用 test 驗證而非 k-fold 交叉驗證\n",
    "# train 用來訓練梯度提升樹, val 用來訓練邏輯斯迴歸, test 驗證效果\n",
    "train_X, test_X, train_Y, test_Y = train_test_split(train_X, train_Y, test_size=0.5)\n",
    "train_X, val_X, train_Y, val_Y = train_test_split(train_X, train_Y, test_size=0.5)"
   ]
  },
  {
   "cell_type": "code",
   "execution_count": 67,
   "metadata": {},
   "outputs": [
    {
     "name": "stderr",
     "output_type": "stream",
     "text": [
      "C:\\Users\\Administrator\\Anaconda3\\lib\\site-packages\\sklearn\\preprocessing\\_encoders.py:371: FutureWarning: The handling of integer data will change in version 0.22. Currently, the categories are determined based on the range [0, max(values)], while in the future they will be determined based on the unique values.\n",
      "If you want the future behaviour and silence this warning, you can specify \"categories='auto'\".\n",
      "In case you used a LabelEncoder before this OneHotEncoder to convert the categories to integers, then you can now use the OneHotEncoder directly.\n",
      "  warnings.warn(msg, FutureWarning)\n"
     ]
    },
    {
     "data": {
      "text/plain": [
       "LogisticRegression(C=1.0, class_weight=None, dual=False, fit_intercept=True,\n",
       "          intercept_scaling=1, max_iter=1000, multi_class='warn',\n",
       "          n_jobs=None, penalty='l2', random_state=None, solver='lbfgs',\n",
       "          tol=0.0001, verbose=0, warm_start=False)"
      ]
     },
     "execution_count": 67,
     "metadata": {},
     "output_type": "execute_result"
    }
   ],
   "source": [
    "# 梯度提升樹調整參數並擬合後, 再將葉編碼 (*.apply) 結果做獨熱 / 邏輯斯迴歸\n",
    "# 調整參數的方式採用 RandomSearchCV 或 GridSearchCV, 以後的進度會再教給大家, 本次先直接使用調參結果\n",
    "gdbt = GradientBoostingClassifier(subsample=0.93, n_estimators=320, min_samples_split=0.1, min_samples_leaf=0.3, \n",
    "                                  max_features=4, max_depth=4, learning_rate=0.16)\n",
    "onehot = OneHotEncoder()\n",
    "lr = LogisticRegression(solver='lbfgs', max_iter=1000)\n",
    "\n",
    "gdbt.fit(train_X, train_Y)\n",
    "onehot.fit(gdbt.apply(train_X)[:, :, 0])\n",
    "lr.fit(onehot.transform(gdbt.apply(val_X)[:, :, 0]), val_Y)"
   ]
  },
  {
   "cell_type": "code",
   "execution_count": 68,
   "metadata": {},
   "outputs": [
    {
     "data": {
      "image/png": "[encoded data removed]",
      "text/plain": [
       "<Figure size 432x288 with 1 Axes>"
      ]
     },
     "metadata": {
      "needs_background": "light"
     },
     "output_type": "display_data"
    }
   ],
   "source": [
    "# 將梯度提升樹+葉編碼+邏輯斯迴歸結果輸出\n",
    "pred_gdbt_lr = lr.predict_proba(onehot.transform(gdbt.apply(test_X)[:, :, 0]))[:, 1]\n",
    "fpr_gdbt_lr, tpr_gdbt_lr, _ = roc_curve(test_Y, pred_gdbt_lr)\n",
    "# 將梯度提升樹結果輸出\n",
    "pred_gdbt = gdbt.predict_proba(test_X)[:, 1]\n",
    "fpr_gdbt, tpr_gdbt, _ = roc_curve(test_Y, pred_gdbt)\n",
    "\n",
    "import matplotlib.pyplot as plt\n",
    "# 將結果繪圖\n",
    "plt.plot([0, 1], [0, 1], 'k--')\n",
    "plt.plot(fpr_gdbt, tpr_gdbt, label='GDBT')\n",
    "plt.plot(fpr_gdbt_lr, tpr_gdbt_lr, label='GDBT + LR')\n",
    "plt.xlabel('False positive rate')\n",
    "plt.ylabel('True positive rate')\n",
    "plt.title('ROC curve')\n",
    "plt.legend(loc='best')\n",
    "plt.show()"
   ]
  },
  {
   "cell_type": "code",
   "execution_count": null,
   "metadata": {},
   "outputs": [],
   "source": []
  },
  {
   "cell_type": "code",
   "execution_count": 69,
   "metadata": {},
   "outputs": [
    {
     "name": "stderr",
     "output_type": "stream",
     "text": [
      "C:\\Users\\Administrator\\Anaconda3\\lib\\site-packages\\sklearn\\preprocessing\\_encoders.py:371: FutureWarning: The handling of integer data will change in version 0.22. Currently, the categories are determined based on the range [0, max(values)], while in the future they will be determined based on the unique values.\n",
      "If you want the future behaviour and silence this warning, you can specify \"categories='auto'\".\n",
      "In case you used a LabelEncoder before this OneHotEncoder to convert the categories to integers, then you can now use the OneHotEncoder directly.\n",
      "  warnings.warn(msg, FutureWarning)\n"
     ]
    },
    {
     "data": {
      "text/plain": [
       "LogisticRegression(C=1.0, class_weight=None, dual=False, fit_intercept=True,\n",
       "          intercept_scaling=1, max_iter=1000, multi_class='warn',\n",
       "          n_jobs=None, penalty='l2', random_state=None, solver='lbfgs',\n",
       "          tol=0.0001, verbose=0, warm_start=False)"
      ]
     },
     "execution_count": 69,
     "metadata": {},
     "output_type": "execute_result"
    }
   ],
   "source": [
    "#完成隨機森林的鐵達尼生存率預測，以及對應的葉編碼+邏輯斯迴歸\n",
    "rf = RandomForestClassifier(n_estimators=20, min_samples_split=10, min_samples_leaf=5, \n",
    "                            max_features=4, max_depth=3, bootstrap=True)\n",
    "onehot = OneHotEncoder()\n",
    "lr = LogisticRegression(solver='lbfgs', max_iter=1000)\n",
    "\n",
    "rf.fit(train_X, train_Y)\n",
    "onehot.fit(rf.apply(train_X))\n",
    "lr.fit(onehot.transform(rf.apply(val_X)), val_Y)"
   ]
  },
  {
   "cell_type": "code",
   "execution_count": 70,
   "metadata": {},
   "outputs": [
    {
     "data": {
      "image/png": "[encoded data removed]",
      "text/plain": [
       "<Figure size 432x288 with 1 Axes>"
      ]
     },
     "metadata": {
      "needs_background": "light"
     },
     "output_type": "display_data"
    }
   ],
   "source": [
    "# 將隨機森林+葉編碼+邏輯斯迴歸結果輸出\n",
    "pred_rf_lr = lr.predict_proba(onehot.transform(rf.apply(test_X)))[:, 1]\n",
    "fpr_rf_lr, tpr_rf_lr, _ = roc_curve(test_Y, pred_rf_lr)\n",
    "# 將隨機森林結果輸出\n",
    "pred_rf = rf.predict_proba(test_X)[:, 1]\n",
    "fpr_rf, tpr_rf, _ = roc_curve(test_Y, pred_rf)\n",
    "\n",
    "import matplotlib.pyplot as plt\n",
    "# 將結果繪圖\n",
    "plt.plot([0, 1], [0, 1], 'k--')\n",
    "plt.plot(fpr_rf, tpr_rf, label='RF')\n",
    "plt.plot(fpr_rf_lr, tpr_rf_lr, label='RF + LR')\n",
    "plt.xlabel('False positive rate')\n",
    "plt.ylabel('True positive rate')\n",
    "plt.title('ROC curve')\n",
    "plt.legend(loc='best')\n",
    "plt.show()"
   ]
  },
  {
   "cell_type": "markdown",
   "metadata": {},
   "source": [
    "* 上述的結果，葉編碼是否有提高預測的正確性呢?\n",
    "> 以roc_auc而言(下圖), 看起來效果不是很明顯, 範例中的結果甚至反過來  \n",
    "大家可以嘗試自己多跑幾次, 結果可能都有些差異  \n",
    "所以葉編碼效果仍要看資料而定, 未必一定比較好, 而是提供多一個方式讓大家選擇"
   ]
  }
 ],
 "metadata": {
  "kernelspec": {
   "display_name": "Python 3",
   "language": "python",
   "name": "python3"
  },
  "language_info": {
   "codemirror_mode": {
    "name": "ipython",
    "version": 3
   },
   "file_extension": ".py",
   "mimetype": "text/x-python",
   "name": "python",
   "nbconvert_exporter": "python",
   "pygments_lexer": "ipython3",
   "version": "3.6.8"
  }
 },
 "nbformat": 4,
 "nbformat_minor": 2
}
