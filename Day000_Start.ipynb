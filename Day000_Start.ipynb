{
 "cells": [
  {
   "cell_type": "markdown",
   "metadata": {},
   "source": [
    "# 一小時Python入門  \n",
    "https://reurl.cc/ROXgz"
   ]
  },
  {
   "cell_type": "markdown",
   "metadata": {},
   "source": [
    "## 1. print語法 與 運算"
   ]
  },
  {
   "cell_type": "markdown",
   "metadata": {},
   "source": [
    "## print"
   ]
  },
  {
   "cell_type": "code",
   "execution_count": 2,
   "metadata": {},
   "outputs": [
    {
     "name": "stdout",
     "output_type": "stream",
     "text": [
      "Hello world\n",
      "Hello World!\n",
      "\n",
      "Good/Bad/Ugly\n"
     ]
    }
   ],
   "source": [
    "print('Hello world')\n",
    "print(\"Hello World!\\n\") #\"\\n\"表示斷行\n",
    "print('Good', 'Bad', 'Ugly', sep = \"/\") #空白以\"/\"連接"
   ]
  },
  {
   "cell_type": "code",
   "execution_count": 4,
   "metadata": {},
   "outputs": [
    {
     "name": "stdout",
     "output_type": "stream",
     "text": [
      "Hello, Demo. You have 999 messages.\n",
      "Hello, Demo2. You have 888 messages.\n"
     ]
    }
   ],
   "source": [
    "#format設定 https://reurl.cc/kqEed\n",
    " #使用{:型別}，想要放入字串變數是{:s}，整數是{:d}，而浮點數則是{:f}\n",
    "print('Hello, {:s}. You have {:d} messages.'.format('Demo', 999))\n",
    " # % 操作 http://www.cnblogs.com/vamei/archive/2013/03/12/2954938.html\n",
    "print('Hello, %s. You have %d messages.' %('Demo2', 888))\n",
    "\n",
    "# f-string 的一種是格式化字串（formatting string）的用法\n",
    " # 像 f'...' 這種在字串符號 ' ' 前面加上指定形式稱為 Prefix String Literal 前綴字串，類似的用法還有 r'...' （原始字串）、b'...' （位元組字串）。\n",
    "# 格式化字串的目的是用於在字串中嵌入變數，可以將字串與變數分離，這邊補充一下幾種類似的寫法：\n",
    "# 參考Day18 問與答\n",
    "# %-formatting: 'Hello %s' % ('World')\n",
    "# str.format(): 'Hello {name}'.format(name='foobar')\n",
    "# f-string: f'Hello {name}'"
   ]
  },
  {
   "cell_type": "code",
   "execution_count": 5,
   "metadata": {},
   "outputs": [
    {
     "name": "stdout",
     "output_type": "stream",
     "text": [
      "type(a): <class 'int'>\n",
      "type(b): <class 'float'>\n",
      "type(c): <class 'str'>\n",
      "        +a\n",
      "0005\n",
      " 2.300\n",
      "1.2000\n"
     ]
    }
   ],
   "source": [
    " # 列印變數: 三大資料型態(Type)\n",
    "a = 123  ; print('type(a):', type(a)); #type(a)這是一個 init (整數)。\n",
    "b = 4.56 ; print('type(b):', type(b)); #type(b)這是一個 str (字串)。\n",
    "c = '789'; print('type(c):', type(c)); #type(c)這是一個 float (浮點數)。 \n",
    "print(\"%+10x\" % 10)  # %x  十六進位整數 \"+\" 結果會顯示+\n",
    "print(\"%04d\" % 5)      # %d  十進位整數，\"0\"4d 整數前位數不足則補零\n",
    "print(\"%6.3f\" % 2.3)   # %f   浮点數，6位數和小數點後三位\n",
    "print(\"%.*f\" % (4, 1.2)) #同上,  增加 * 參數，這邊設定在刮弧內第一個數字 4"
   ]
  },
  {
   "cell_type": "markdown",
   "metadata": {},
   "source": [
    " ## 運算 \n",
    " http://tw.gitbook.net/python/python_basic_operators.html"
   ]
  },
  {
   "cell_type": "code",
   "execution_count": 7,
   "metadata": {},
   "outputs": [
    {
     "name": "stdout",
     "output_type": "stream",
     "text": [
      "a= 5\n",
      "b= 2\n",
      "a+b= 7\n",
      "a-b= 3\n",
      "a*b= 10\n",
      "a/b= 2.5\n",
      "a//b= 2\n",
      "a**b= 25\n"
     ]
    }
   ],
   "source": [
    "a=5\n",
    "b=2\n",
    "print('a=', a)\n",
    "print('b=', b)\n",
    "print('a+b=', a+b)\n",
    "print('a-b=', a-b)\n",
    "print('a*b=', a*b)\n",
    "print('a/b=', a/b)   #除法\n",
    "print('a//b=', a//b) #無條件捨去除法\n",
    "print('a**b=', a**b) # a 的 b 次方"
   ]
  },
  {
   "cell_type": "code",
   "execution_count": 8,
   "metadata": {},
   "outputs": [
    {
     "name": "stdout",
     "output_type": "stream",
     "text": [
      "c= -3\n",
      "d= 4\n",
      "abs(c)= 3\n",
      "max(a, b)= 5\n",
      "min(a, b)= 2\n"
     ]
    }
   ],
   "source": [
    "c= -3\n",
    "d= 4\n",
    "print('c=', c)\n",
    "print('d=', d)\n",
    "print('abs(c)=', abs(c)) #取 a絕對值\n",
    "print('max(a, b)=', max(a, b)) #取a, b 的最大值\n",
    "print('min(a, b)=', min(a, b)) #取a, b 的最大值"
   ]
  },
  {
   "cell_type": "code",
   "execution_count": 9,
   "metadata": {},
   "outputs": [
    {
     "name": "stdout",
     "output_type": "stream",
     "text": [
      "e= 123\n",
      "f= 456\n",
      "e+int(f)= 579\n",
      "str(e)+f= 123456\n"
     ]
    }
   ],
   "source": [
    "# 不同的形態運算，可以用 int(), str(), float() 來轉換變數型態。\n",
    "e=123\n",
    "f='456'\n",
    "print('e=', e)\n",
    "print('f=', f)\n",
    "print('e+int(f)=', e+int(f))\n",
    "print('str(e)+f=', str(e)+f)"
   ]
  },
  {
   "cell_type": "markdown",
   "metadata": {},
   "source": [
    "## 2. If- Else語法 [注意縮排]\n",
    "\n",
    "> if 判斷條件1:\n",
    " >>    執行語句1……\n",
    "     \n",
    "> elif 判斷條件2:\n",
    "  >>   執行語句2……\n",
    "     \n",
    "> else:\n",
    "  >>   執行語句3……"
   ]
  },
  {
   "cell_type": "code",
   "execution_count": 15,
   "metadata": {},
   "outputs": [
    {
     "name": "stdout",
     "output_type": "stream",
     "text": [
      "roadman\n"
     ]
    }
   ],
   "source": [
    "num = 5     \n",
    "if num == 3:          \n",
    "    print ('boss')       \n",
    "elif num == 2:\n",
    "    print ('user')\n",
    "elif num == 1:\n",
    "    print ('worker')\n",
    "elif num < 0:         \n",
    "    print ('error')\n",
    "else:\n",
    "    print ('roadman')\n",
    "    \n",
    "# if-else主要用在邏輯運算的判斷上：\n",
    "# > 大於, < 小於, >= 大於等於, <= 小於等於, == 等於, !== 不等於\n",
    "# 或是布林值(Boolean)：true 真的, false 假的, and 且, or 或, not 非"
   ]
  },
  {
   "cell_type": "markdown",
   "metadata": {},
   "source": [
    "## 3. For Loop迴圈\n",
    "> for [變數名稱] in range(n): (縮排) print([變數名稱])"
   ]
  },
  {
   "cell_type": "code",
   "execution_count": 20,
   "metadata": {},
   "outputs": [
    {
     "name": "stdout",
     "output_type": "stream",
     "text": [
      "2\n",
      "3\n",
      "4\n",
      "5\n",
      "6\n",
      "7\n",
      "8\n",
      "9\n",
      "\n",
      "2\n",
      "4\n",
      "6\n",
      "8\n"
     ]
    }
   ],
   "source": [
    "#range(n) = range(0, n)，簡單來說就是個產生器，在這個range範圍中拿資料、拿完到不包含n的資料為止。\n",
    "for i in range(2,10): #從2開始印到9\n",
    "    print(i)\n",
    "\n",
    "print(\"\")\n",
    "\n",
    "#range(起點, 終點, 間距)，一般間距預設為1、比如 range(0, 6) = range(0, 6, 1) 。代表從 0 到 5，每次加 1 的意思。\n",
    "for i in range(2,10, 2): #從2開始每兩格數字印出來\n",
    "    print(i)"
   ]
  },
  {
   "cell_type": "markdown",
   "metadata": {},
   "source": [
    "## 4. List：能無限儲存資料的格子"
   ]
  },
  {
   "cell_type": "code",
   "execution_count": 21,
   "metadata": {},
   "outputs": [
    {
     "name": "stdout",
     "output_type": "stream",
     "text": [
      "Lynn\n",
      "0.87\n",
      "1234\n",
      "True\n"
     ]
    }
   ],
   "source": [
    "#List有多少元素呢?  len([list變數名稱])。\n",
    "a = ['Lynn', 0.87, 1234, True]\n",
    "len(a)\n",
    "for i in a: \n",
    "    print(i)"
   ]
  },
  {
   "cell_type": "code",
   "execution_count": 23,
   "metadata": {},
   "outputs": [
    {
     "name": "stdout",
     "output_type": "stream",
     "text": [
      "增加Sia壓軸後的名單: ['Justin', 'Taylor', 'Lady Gaga', 'Sia']\n",
      "增加小甜甜布萊妮在第三位後的名單: ['Justin', 'Taylor', 'Britney Spears', 'Lady Gaga', 'Sia']\n",
      "不含最後一筆(壓軸)的名單: ['Justin', 'Taylor', 'Britney Spears', 'Lady Gaga']\n",
      "Taylor退出後，不含最後一筆(壓軸)的名單:  ['Justin', 'Britney Spears', 'Lady Gaga']\n",
      "移除第一個A的列表: ['B', 'C', 'A', 'B', 'C']\n",
      "移除第二個A的列表: ['B', 'C', 'B', 'C']\n",
      "ABCDE[0:2] : ['A', 'B']\n",
      "ABCDE[2:4] : ['C', 'D']\n",
      "ABCDE[ :4] : ['A', 'B', 'C', 'D']\n",
      "ABCDE[2: ] : ['C', 'D', 'E']\n",
      "ABCDE[ : ] : ['A', 'B', 'C', 'D', 'E']\n"
     ]
    }
   ],
   "source": [
    "#增減資料方法\n",
    "singers=[\"Justin\", \"Taylor\", \"Lady Gaga\"]\n",
    "singers.append(\"Sia\")\n",
    "print(\"增加Sia壓軸後的名單:\", singers)\n",
    "singers.insert(2, \"Britney Spears\")\n",
    "print(\"增加小甜甜布萊妮在第三位後的名單:\", singers)\n",
    "singers.pop()\n",
    "print(\"不含最後一筆(壓軸)的名單:\", singers)\n",
    "singers.pop(1)\n",
    "print(\"Taylor退出後，不含最後一筆(壓軸)的名單: \", singers)\n",
    "#list.remove(x): 會把第一個出現的變數x拿掉\n",
    "ABC=[\"A\", \"B\", \"C\", \"A\", \"B\", \"C\"]\n",
    "ABC.remove(\"A\")\n",
    "print(\"移除第一個A的列表:\", ABC)\n",
    "ABC.remove(\"A\")\n",
    "print(\"移除第二個A的列表:\", ABC)\n",
    "#List 還有切片 (Slice) 的功能\n",
    "ABCDE=[\"A\", \"B\", \"C\", \"D\", \"E\"]\n",
    "print(\"ABCDE[0:2] :\", ABCDE[0:2] )\n",
    "print(\"ABCDE[2:4] :\", ABCDE[2:4] )\n",
    "print(\"ABCDE[ :4] :\", ABCDE[ :4] )\n",
    "print(\"ABCDE[2: ] :\", ABCDE[2: ] )\n",
    "print(\"ABCDE[ : ] :\", ABCDE[ : ] )"
   ]
  },
  {
   "cell_type": "markdown",
   "metadata": {},
   "source": [
    "## 5. Dict 一個靠標籤能查到東西的字典: "
   ]
  },
  {
   "cell_type": "code",
   "execution_count": 24,
   "metadata": {},
   "outputs": [
    {
     "name": "stdout",
     "output_type": "stream",
     "text": [
      "{123: 'Snoopy', 'cat': ['Pusheen', 'Kitty']}\n",
      "Snoopy\n",
      "['Pusheen', 'Kitty']\n",
      "{123: 'Snoopy', 'cat': ['Pusheen', 'Kitty'], 'demo_new': [2, 3]}\n",
      "{123: 'Snoopy', 'cat': ['Pusheen', 'Kitty']}\n"
     ]
    }
   ],
   "source": [
    "#dict由大括號{}包住、元素以key:value的key-value pair組成 (key後面接冒號和變數value)，並以由逗點, 隔開。\n",
    "d = {123:'Snoopy', 'cat':['Pusheen', 'Kitty']}\n",
    "print(d)\n",
    "print(d[123])\n",
    "print(d[\"cat\"])\n",
    "#增加與更新dict[key]=value: 如果key不存在，會增加這組K-V；如果key已存在，會更新這組K-V。\n",
    "d[\"demo_new\"]=[2, 3]\n",
    "print(d)\n",
    "#del dict[key]: 刪除特定的key-value pari\n",
    "del d[\"demo_new\"]\n",
    "print(d)"
   ]
  },
  {
   "cell_type": "code",
   "execution_count": null,
   "metadata": {},
   "outputs": [],
   "source": []
  }
 ],
 "metadata": {
  "kernelspec": {
   "display_name": "Python 3",
   "language": "python",
   "name": "python3"
  },
  "language_info": {
   "codemirror_mode": {
    "name": "ipython",
    "version": 3
   },
   "file_extension": ".py",
   "mimetype": "text/x-python",
   "name": "python",
   "nbconvert_exporter": "python",
   "pygments_lexer": "ipython3",
   "version": "3.6.8"
  }
 },
 "nbformat": 4,
 "nbformat_minor": 2
}
